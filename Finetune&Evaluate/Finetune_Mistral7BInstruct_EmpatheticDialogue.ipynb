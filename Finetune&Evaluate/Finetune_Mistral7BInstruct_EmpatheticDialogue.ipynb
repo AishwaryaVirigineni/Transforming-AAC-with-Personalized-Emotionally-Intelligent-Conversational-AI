{
  "cells": [
    {
      "cell_type": "markdown",
      "source": [
        "### This notebook presents the fine-tuning workflow applied to the Mistral-7B-Instruct model using instruction-style formatting, with a focus on aligning responses to emotionally grounded conversational data."
      ],
      "metadata": {
        "id": "6R_avsBZ5BzG"
      }
    },
    {
      "cell_type": "markdown",
      "source": [
        "### Dataset used: Empathetic Dialogue Dataset"
      ],
      "metadata": {
        "id": "NHVHQj8YPkn5"
      }
    },
    {
      "cell_type": "markdown",
      "source": [
        "### Importing Necessary Libraries"
      ],
      "metadata": {
        "id": "2U8bzFvx2CS7"
      }
    },
    {
      "cell_type": "code",
      "execution_count": null,
      "metadata": {
        "id": "2eSvM9zX_2d3"
      },
      "outputs": [],
      "source": [
        "%%capture\n",
        "!pip install \"unsloth[colab-new] @ git+https://github.com/unslothai/unsloth.git\"\n",
        "!pip install --no-deps xformers trl peft accelerate bitsandbytes"
      ]
    },
    {
      "cell_type": "code",
      "source": [
        "import unsloth\n",
        "import torch\n",
        "import numpy as np\n",
        "import transformers\n",
        "import bitsandbytes as bnb\n",
        "import xformers\n",
        "import accelerate\n",
        "import peft\n",
        "import datasets\n",
        "import trl"
      ],
      "metadata": {
        "id": "IocKn4KK5r-z"
      },
      "execution_count": null,
      "outputs": []
    },
    {
      "cell_type": "markdown",
      "source": [
        "## Model Prep"
      ],
      "metadata": {
        "id": "_j8q2rXR3MeC"
      }
    },
    {
      "cell_type": "code",
      "source": [
        "import torch\n",
        "from unsloth import FastLanguageModel\n",
        "import os\n",
        "os.environ[\"TRITON_DISABLE_LINE_INFO\"] = \"1\""
      ],
      "metadata": {
        "id": "VZ2fuZl44qnL"
      },
      "execution_count": null,
      "outputs": []
    },
    {
      "cell_type": "code",
      "execution_count": null,
      "metadata": {
        "colab": {
          "base_uri": "https://localhost:8080/"
        },
        "id": "QmUBVEnvCDJv",
        "outputId": "b5401492-27f1-41ff-cd62-a7da154a0692"
      },
      "outputs": [
        {
          "output_type": "stream",
          "name": "stdout",
          "text": [
            "==((====))==  Unsloth 2025.3.18: Fast Mistral patching. Transformers: 4.51.3.\n",
            "   \\\\   /|    Tesla T4. Num GPUs = 1. Max memory: 14.741 GB. Platform: Linux.\n",
            "O^O/ \\_/ \\    Torch: 2.7.0+cu126. CUDA: 7.5. CUDA Toolkit: 12.6. Triton: 3.3.0\n",
            "\\        /    Bfloat16 = FALSE. FA [Xformers = 0.0.30. FA2 = False]\n",
            " \"-____-\"     Free license: http://github.com/unslothai/unsloth\n",
            "Unsloth: Fast downloading is enabled - ignore downloading bars which are red colored!\n"
          ]
        }
      ],
      "source": [
        "max_seq_length = 2048\n",
        "dtype = None\n",
        "load_in_4bit = True\n",
        "\n",
        "FastLanguageModel.forbid_torch_xformers = True\n",
        "\n",
        "model, tokenizer = FastLanguageModel.from_pretrained(\n",
        "    model_name =  \"unsloth/mistral-7b-instruct-v0.2-bnb-4bit\",\n",
        "    max_seq_length = max_seq_length,\n",
        "    dtype = dtype,\n",
        "    load_in_4bit = load_in_4bit,\n",
        ")"
      ]
    },
    {
      "cell_type": "markdown",
      "source": [
        "We now add LoRA adapters so we only need to update 1 to 10% of all parameters!"
      ],
      "metadata": {
        "id": "SXd9bTZd1aaL"
      }
    },
    {
      "cell_type": "code",
      "execution_count": null,
      "metadata": {
        "id": "6bZsfBuZDeCL",
        "colab": {
          "base_uri": "https://localhost:8080/"
        },
        "outputId": "5281b89e-9aaf-4409-ba26-7709c1fcf742"
      },
      "outputs": [
        {
          "output_type": "stream",
          "name": "stderr",
          "text": [
            "Unsloth 2025.3.18 patched 32 layers with 32 QKV layers, 32 O layers and 32 MLP layers.\n"
          ]
        }
      ],
      "source": [
        "model = FastLanguageModel.get_peft_model(\n",
        "    model,\n",
        "    r = 16,\n",
        "    target_modules = [\"q_proj\", \"k_proj\", \"v_proj\", \"o_proj\",\n",
        "                      \"gate_proj\", \"up_proj\", \"down_proj\",],\n",
        "    lora_alpha = 16,\n",
        "    lora_dropout = 0,\n",
        "    bias = \"none\",\n",
        "    use_gradient_checkpointing = \"unsloth\",\n",
        "    random_state = 3407,\n",
        "    use_rslora = False,\n",
        "    loftq_config = None,\n",
        ")"
      ]
    },
    {
      "cell_type": "code",
      "source": [
        "from peft import PeftModel\n",
        "model = PeftModel.from_pretrained(model,\"/content/drive/MyDrive/fine_tuned_mistral_dailydialog\")\n"
      ],
      "metadata": {
        "id": "uEDd7mbb_wbl"
      },
      "execution_count": null,
      "outputs": []
    },
    {
      "cell_type": "markdown",
      "source": [
        "## Data Prep\n"
      ],
      "metadata": {
        "id": "vITh0KVJ10qX"
      }
    },
    {
      "cell_type": "code",
      "execution_count": null,
      "metadata": {
        "id": "LjY75GoYUCB8"
      },
      "outputs": [],
      "source": [
        "from unsloth import FastLanguageModel\n",
        "from datasets import load_dataset\n",
        "\n",
        "# Defining Alpaca-style prompt\n",
        "alpaca_prompt = \"\"\"Below is an instruction that describes a task, paired with an input that provides further context. Write a response that appropriately completes the request.\n",
        "\n",
        "### Instruction:\n",
        "{}\n",
        "\n",
        "### Input:\n",
        "{}\n",
        "\n",
        "### Response:\n",
        "{}\"\"\"\n",
        "\n",
        "# Load dataset\n",
        "dataset = load_dataset(\"talalmuzaffar/empathetic_dataset_with_correct_context\", split=\"train\")"
      ]
    },
    {
      "cell_type": "code",
      "source": [
        "print(dataset)"
      ],
      "metadata": {
        "colab": {
          "base_uri": "https://localhost:8080/"
        },
        "id": "Onrmw4Hr693f",
        "outputId": "f8cc24e5-224f-4c3c-d7a2-2285ca5ac44a"
      },
      "execution_count": null,
      "outputs": [
        {
          "output_type": "stream",
          "name": "stdout",
          "text": [
            "Dataset({\n",
            "    features: ['Context', 'Input', 'Response', '__index_level_0__'],\n",
            "    num_rows: 8000\n",
            "})\n"
          ]
        }
      ]
    },
    {
      "cell_type": "code",
      "source": [
        "# Drop the unnecessary index column\n",
        "dataset = dataset.remove_columns(['__index_level_0__'])"
      ],
      "metadata": {
        "id": "3IYD91m9-iPe"
      },
      "execution_count": null,
      "outputs": []
    },
    {
      "cell_type": "code",
      "source": [
        "print(dataset[0])"
      ],
      "metadata": {
        "colab": {
          "base_uri": "https://localhost:8080/"
        },
        "id": "Zxwq8iBh6yHZ",
        "outputId": "3b89a160-c1aa-4448-b864-0497eeea691c"
      },
      "execution_count": null,
      "outputs": [
        {
          "output_type": "stream",
          "name": "stdout",
          "text": [
            "{'Context': 'You are an empathetic chatbot and your goal is to respond empathetically and ask clarifying questions.', 'Input': 'I was so embarrassed.  I farted while I was out on a date.', 'Response': 'Oh_comma_ lord. Did the other person die?'}\n"
          ]
        }
      ]
    },
    {
      "cell_type": "code",
      "source": [
        "print(dataset.column_names)"
      ],
      "metadata": {
        "colab": {
          "base_uri": "https://localhost:8080/"
        },
        "id": "0--Aqm0fAbCe",
        "outputId": "6fcfdefe-e707-49fd-9ab2-27f7d8f1a114"
      },
      "execution_count": null,
      "outputs": [
        {
          "output_type": "stream",
          "name": "stdout",
          "text": [
            "['Context', 'Input', 'Response']\n"
          ]
        }
      ]
    },
    {
      "cell_type": "code",
      "source": [
        "# Rename dataset columns to match the Alpaca format\n",
        "dataset = dataset.rename_columns({\n",
        "    \"Context\": \"instruction\",\n",
        "    \"Input\": \"input\",\n",
        "    \"Response\": \"output\"\n",
        "})\n",
        "\n",
        "# Format the dataset\n",
        "EOS_TOKEN = tokenizer.eos_token  # Add EOS_TOKEN\n",
        "\n",
        "def formatting_prompts_func(examples):\n",
        "    instructions = examples[\"instruction\"]\n",
        "    inputs = examples[\"input\"]\n",
        "    outputs = examples[\"output\"]\n",
        "    texts = []\n",
        "    for instruction, input, output in zip(instructions, inputs, outputs):\n",
        "        text = alpaca_prompt.format(instruction, input, output) + EOS_TOKEN\n",
        "        texts.append(text)\n",
        "    return {\"text\": texts}\n",
        "\n",
        "# Apply formatting\n",
        "dataset = dataset.map(formatting_prompts_func, batched=True)"
      ],
      "metadata": {
        "colab": {
          "base_uri": "https://localhost:8080/",
          "height": 49,
          "referenced_widgets": [
            "b671ef6c8799435496bf451f4a945386",
            "4ab516d201194f50a9f02576804d4f90",
            "e711a3e9d246490d9f65f874ff430066",
            "f17f438c534e4ed0b9ba3c3a866a37eb",
            "fad64da30f0542b989e0441177160ac5",
            "09aa56e6a1f34b908fad30358b985fda",
            "fcb3da45bd2e40ac870a11d18e1faa0a",
            "c0bed5f1e76f4b00ab814d242fe0b70a",
            "0ea9f82d60c5412e8b526b5f4cc9a768",
            "b05583f3857144898bdbe1ea5f769e44",
            "24259406e940489c95440408b63c02b3"
          ]
        },
        "id": "MrjOl7l37dJS",
        "outputId": "1e05bce6-c3d5-40e4-a1b0-597345242953"
      },
      "execution_count": null,
      "outputs": [
        {
          "output_type": "display_data",
          "data": {
            "text/plain": [
              "Map:   0%|          | 0/8000 [00:00<?, ? examples/s]"
            ],
            "application/vnd.jupyter.widget-view+json": {
              "version_major": 2,
              "version_minor": 0,
              "model_id": "b671ef6c8799435496bf451f4a945386"
            }
          },
          "metadata": {}
        }
      ]
    },
    {
      "cell_type": "code",
      "source": [
        "print(dataset.column_names)"
      ],
      "metadata": {
        "colab": {
          "base_uri": "https://localhost:8080/"
        },
        "id": "iIFsa36dAhE6",
        "outputId": "ff386089-4d89-4286-9596-ea231d8a1b92"
      },
      "execution_count": null,
      "outputs": [
        {
          "output_type": "stream",
          "name": "stdout",
          "text": [
            "['instruction', 'input', 'output', 'text']\n"
          ]
        }
      ]
    },
    {
      "cell_type": "code",
      "source": [
        "from datasets import DatasetDict\n",
        "\n",
        "dataset2 = dataset\n",
        "\n",
        "split_dataset = dataset2.train_test_split(test_size=0.2, seed=42)\n",
        "val_test_split = split_dataset['test'].train_test_split(test_size=0.5, seed=42)\n",
        "\n",
        "final_splits = DatasetDict({\n",
        "    'train': split_dataset['train'],\n",
        "    'validation': val_test_split['train'],\n",
        "    'test': val_test_split['test']\n",
        "})\n",
        "print(final_splits)"
      ],
      "metadata": {
        "colab": {
          "base_uri": "https://localhost:8080/"
        },
        "id": "PsLpq4eN8jqx",
        "outputId": "b65edeae-2c1f-4d10-d2e4-2927a42d9151"
      },
      "execution_count": null,
      "outputs": [
        {
          "output_type": "stream",
          "name": "stdout",
          "text": [
            "DatasetDict({\n",
            "    train: Dataset({\n",
            "        features: ['instruction', 'input', 'output', 'text'],\n",
            "        num_rows: 6400\n",
            "    })\n",
            "    validation: Dataset({\n",
            "        features: ['instruction', 'input', 'output', 'text'],\n",
            "        num_rows: 800\n",
            "    })\n",
            "    test: Dataset({\n",
            "        features: ['instruction', 'input', 'output', 'text'],\n",
            "        num_rows: 800\n",
            "    })\n",
            "})\n"
          ]
        }
      ]
    },
    {
      "cell_type": "code",
      "source": [
        "print(final_splits['train'][0][\"text\"])"
      ],
      "metadata": {
        "colab": {
          "base_uri": "https://localhost:8080/"
        },
        "id": "I4Wpl_B_7iUi",
        "outputId": "a97f2a8b-5ddd-4bac-ecc7-b3d98cb4a95a"
      },
      "execution_count": null,
      "outputs": [
        {
          "output_type": "stream",
          "name": "stdout",
          "text": [
            "Below is an instruction that describes a task, paired with an input that provides further context. Write a response that appropriately completes the request.\n",
            "\n",
            "### Instruction:\n",
            "You are an empathetic chatbot and your goal is to respond empathetically and ask clarifying questions.\n",
            "\n",
            "### Input:\n",
            "Had a really good spaghetti dinner tonight. Just relaxing and getting some work done now. Feeling pretty accomplished today.\n",
            "\n",
            "### Response:\n",
            "Big dinners are always a great way to tie everything up at the end of the day. Was it a pretty long day for you?</s>\n"
          ]
        }
      ]
    },
    {
      "cell_type": "markdown",
      "source": [
        "## Train the model\n"
      ],
      "metadata": {
        "id": "idAEIeSQ3xdS"
      }
    },
    {
      "cell_type": "code",
      "execution_count": null,
      "metadata": {
        "id": "95_Nn-89DhsL",
        "colab": {
          "base_uri": "https://localhost:8080/",
          "height": 49,
          "referenced_widgets": [
            "168f4f4349b746ca889b58ef8b317b25",
            "1195a89badf545efb7bbd260026a15d6",
            "aef48998b96b4a0880ae75e68685f27a",
            "95d25802869a4808b8878ff5ef1e172b",
            "978ffb795d884c269a8e9a069d3d36b5",
            "e2034c91f5374ad48b2a36b51d40f004",
            "bcd6e76112a9483fa71e1aff5c3d95e7",
            "36ddf9923114450cb5aaf2034e7cd6b2",
            "10dec033409f4be78157a88330b603e0",
            "01c854c21a1e4598a4d6919c1b4e8d3e",
            "d79168d6c4724f108dfbf9aafc2ab8d9"
          ]
        },
        "outputId": "1faca3e4-0cf7-45cd-fa50-c6dc5adefebd"
      },
      "outputs": [
        {
          "output_type": "display_data",
          "data": {
            "text/plain": [
              "Unsloth: Tokenizing [\"text\"] (num_proc=2):   0%|          | 0/6400 [00:00<?, ? examples/s]"
            ],
            "application/vnd.jupyter.widget-view+json": {
              "version_major": 2,
              "version_minor": 0,
              "model_id": "168f4f4349b746ca889b58ef8b317b25"
            }
          },
          "metadata": {}
        }
      ],
      "source": [
        "from trl import SFTTrainer\n",
        "from transformers import TrainingArguments\n",
        "from unsloth import is_bfloat16_supported\n",
        "\n",
        "trainer = SFTTrainer(\n",
        "    model = model,\n",
        "    tokenizer = tokenizer,\n",
        "    train_dataset = final_splits['train'],\n",
        "    dataset_text_field = \"text\",\n",
        "    max_seq_length = max_seq_length,\n",
        "    dataset_num_proc = 2,\n",
        "    packing = False, # Can make training 5x faster for short sequences.\n",
        "    args = TrainingArguments(\n",
        "        per_device_train_batch_size = 2,\n",
        "        gradient_accumulation_steps = 4,\n",
        "        warmup_steps = 5,\n",
        "        max_steps = 60,\n",
        "        learning_rate = 2e-4,\n",
        "        fp16 = not is_bfloat16_supported(),\n",
        "        bf16 = is_bfloat16_supported(),\n",
        "        logging_steps = 1,\n",
        "        optim = \"adamw_8bit\",\n",
        "        weight_decay = 0.01,\n",
        "        lr_scheduler_type = \"linear\",\n",
        "        seed = 3407,\n",
        "        output_dir = \"outputs\",\n",
        "    ),\n",
        ")"
      ]
    },
    {
      "cell_type": "code",
      "execution_count": null,
      "metadata": {
        "id": "2ejIt2xSNKKp",
        "colab": {
          "base_uri": "https://localhost:8080/"
        },
        "outputId": "5de390d4-c304-4b05-c80a-68dead406242"
      },
      "outputs": [
        {
          "output_type": "stream",
          "name": "stdout",
          "text": [
            "GPU = Tesla T4. Max memory = 14.741 GB.\n",
            "7.043 GB of memory reserved.\n"
          ]
        }
      ],
      "source": [
        "#@title Show current memory stats\n",
        "gpu_stats = torch.cuda.get_device_properties(0)\n",
        "start_gpu_memory = round(torch.cuda.max_memory_reserved() / 1024 / 1024 / 1024, 3)\n",
        "max_memory = round(gpu_stats.total_memory / 1024 / 1024 / 1024, 3)\n",
        "print(f\"GPU = {gpu_stats.name}. Max memory = {max_memory} GB.\")\n",
        "print(f\"{start_gpu_memory} GB of memory reserved.\")"
      ]
    },
    {
      "cell_type": "code",
      "execution_count": null,
      "metadata": {
        "id": "yqxqAZ7KJ4oL",
        "colab": {
          "base_uri": "https://localhost:8080/",
          "height": 1000
        },
        "outputId": "7d85f18b-bb37-46b7-ad35-eac74a3f525c"
      },
      "outputs": [
        {
          "output_type": "stream",
          "name": "stderr",
          "text": [
            "==((====))==  Unsloth - 2x faster free finetuning | Num GPUs used = 1\n",
            "   \\\\   /|    Num examples = 6,400 | Num Epochs = 1 | Total steps = 60\n",
            "O^O/ \\_/ \\    Batch size per device = 2 | Gradient accumulation steps = 4\n",
            "\\        /    Data Parallel GPUs = 1 | Total batch size (2 x 4 x 1) = 8\n",
            " \"-____-\"     Trainable parameters = 41,943,040/7,000,000,000 (0.60% trained)\n",
            "\u001b[34m\u001b[1mwandb\u001b[0m: \u001b[33mWARNING\u001b[0m The `run_name` is currently set to the same value as `TrainingArguments.output_dir`. If this was not intended, please specify a different run name by setting the `TrainingArguments.run_name` parameter.\n",
            "\u001b[34m\u001b[1mwandb\u001b[0m: Currently logged in as: \u001b[33mvirigineniaishwarya2\u001b[0m (\u001b[33mvirigineniaishwarya2-university-at-buffalo\u001b[0m) to \u001b[32mhttps://api.wandb.ai\u001b[0m. Use \u001b[1m`wandb login --relogin`\u001b[0m to force relogin\n"
          ]
        },
        {
          "output_type": "display_data",
          "data": {
            "text/plain": [
              "<IPython.core.display.HTML object>"
            ],
            "text/html": [
              "Tracking run with wandb version 0.19.10"
            ]
          },
          "metadata": {}
        },
        {
          "output_type": "display_data",
          "data": {
            "text/plain": [
              "<IPython.core.display.HTML object>"
            ],
            "text/html": [
              "Run data is saved locally in <code>/content/wandb/run-20250508_174813-qnbxebbe</code>"
            ]
          },
          "metadata": {}
        },
        {
          "output_type": "display_data",
          "data": {
            "text/plain": [
              "<IPython.core.display.HTML object>"
            ],
            "text/html": [
              "Syncing run <strong><a href='https://wandb.ai/virigineniaishwarya2-university-at-buffalo/huggingface/runs/qnbxebbe' target=\"_blank\">outputs</a></strong> to <a href='https://wandb.ai/virigineniaishwarya2-university-at-buffalo/huggingface' target=\"_blank\">Weights & Biases</a> (<a href='https://wandb.me/developer-guide' target=\"_blank\">docs</a>)<br>"
            ]
          },
          "metadata": {}
        },
        {
          "output_type": "display_data",
          "data": {
            "text/plain": [
              "<IPython.core.display.HTML object>"
            ],
            "text/html": [
              " View project at <a href='https://wandb.ai/virigineniaishwarya2-university-at-buffalo/huggingface' target=\"_blank\">https://wandb.ai/virigineniaishwarya2-university-at-buffalo/huggingface</a>"
            ]
          },
          "metadata": {}
        },
        {
          "output_type": "display_data",
          "data": {
            "text/plain": [
              "<IPython.core.display.HTML object>"
            ],
            "text/html": [
              " View run at <a href='https://wandb.ai/virigineniaishwarya2-university-at-buffalo/huggingface/runs/qnbxebbe' target=\"_blank\">https://wandb.ai/virigineniaishwarya2-university-at-buffalo/huggingface/runs/qnbxebbe</a>"
            ]
          },
          "metadata": {}
        },
        {
          "output_type": "stream",
          "name": "stdout",
          "text": [
            "Unsloth: Will smartly offload gradients to save VRAM!\n"
          ]
        },
        {
          "output_type": "display_data",
          "data": {
            "text/plain": [
              "<IPython.core.display.HTML object>"
            ],
            "text/html": [
              "\n",
              "    <div>\n",
              "      \n",
              "      <progress value='60' max='60' style='width:300px; height:20px; vertical-align: middle;'></progress>\n",
              "      [60/60 04:48, Epoch 0/1]\n",
              "    </div>\n",
              "    <table border=\"1\" class=\"dataframe\">\n",
              "  <thead>\n",
              " <tr style=\"text-align: left;\">\n",
              "      <th>Step</th>\n",
              "      <th>Training Loss</th>\n",
              "    </tr>\n",
              "  </thead>\n",
              "  <tbody>\n",
              "    <tr>\n",
              "      <td>1</td>\n",
              "      <td>3.219900</td>\n",
              "    </tr>\n",
              "    <tr>\n",
              "      <td>2</td>\n",
              "      <td>3.042700</td>\n",
              "    </tr>\n",
              "    <tr>\n",
              "      <td>3</td>\n",
              "      <td>2.956200</td>\n",
              "    </tr>\n",
              "    <tr>\n",
              "      <td>4</td>\n",
              "      <td>2.326300</td>\n",
              "    </tr>\n",
              "    <tr>\n",
              "      <td>5</td>\n",
              "      <td>1.825400</td>\n",
              "    </tr>\n",
              "    <tr>\n",
              "      <td>6</td>\n",
              "      <td>1.359700</td>\n",
              "    </tr>\n",
              "    <tr>\n",
              "      <td>7</td>\n",
              "      <td>1.187300</td>\n",
              "    </tr>\n",
              "    <tr>\n",
              "      <td>8</td>\n",
              "      <td>1.018000</td>\n",
              "    </tr>\n",
              "    <tr>\n",
              "      <td>9</td>\n",
              "      <td>1.160900</td>\n",
              "    </tr>\n",
              "    <tr>\n",
              "      <td>10</td>\n",
              "      <td>0.985800</td>\n",
              "    </tr>\n",
              "    <tr>\n",
              "      <td>11</td>\n",
              "      <td>0.861200</td>\n",
              "    </tr>\n",
              "    <tr>\n",
              "      <td>12</td>\n",
              "      <td>0.772800</td>\n",
              "    </tr>\n",
              "    <tr>\n",
              "      <td>13</td>\n",
              "      <td>0.948300</td>\n",
              "    </tr>\n",
              "    <tr>\n",
              "      <td>14</td>\n",
              "      <td>0.894200</td>\n",
              "    </tr>\n",
              "    <tr>\n",
              "      <td>15</td>\n",
              "      <td>0.914700</td>\n",
              "    </tr>\n",
              "    <tr>\n",
              "      <td>16</td>\n",
              "      <td>0.858400</td>\n",
              "    </tr>\n",
              "    <tr>\n",
              "      <td>17</td>\n",
              "      <td>0.919100</td>\n",
              "    </tr>\n",
              "    <tr>\n",
              "      <td>18</td>\n",
              "      <td>0.887400</td>\n",
              "    </tr>\n",
              "    <tr>\n",
              "      <td>19</td>\n",
              "      <td>1.088500</td>\n",
              "    </tr>\n",
              "    <tr>\n",
              "      <td>20</td>\n",
              "      <td>1.072500</td>\n",
              "    </tr>\n",
              "    <tr>\n",
              "      <td>21</td>\n",
              "      <td>0.873000</td>\n",
              "    </tr>\n",
              "    <tr>\n",
              "      <td>22</td>\n",
              "      <td>0.865700</td>\n",
              "    </tr>\n",
              "    <tr>\n",
              "      <td>23</td>\n",
              "      <td>0.958600</td>\n",
              "    </tr>\n",
              "    <tr>\n",
              "      <td>24</td>\n",
              "      <td>0.864300</td>\n",
              "    </tr>\n",
              "    <tr>\n",
              "      <td>25</td>\n",
              "      <td>0.884400</td>\n",
              "    </tr>\n",
              "    <tr>\n",
              "      <td>26</td>\n",
              "      <td>0.805400</td>\n",
              "    </tr>\n",
              "    <tr>\n",
              "      <td>27</td>\n",
              "      <td>0.764000</td>\n",
              "    </tr>\n",
              "    <tr>\n",
              "      <td>28</td>\n",
              "      <td>0.912500</td>\n",
              "    </tr>\n",
              "    <tr>\n",
              "      <td>29</td>\n",
              "      <td>0.774800</td>\n",
              "    </tr>\n",
              "    <tr>\n",
              "      <td>30</td>\n",
              "      <td>0.694300</td>\n",
              "    </tr>\n",
              "    <tr>\n",
              "      <td>31</td>\n",
              "      <td>0.843500</td>\n",
              "    </tr>\n",
              "    <tr>\n",
              "      <td>32</td>\n",
              "      <td>0.999500</td>\n",
              "    </tr>\n",
              "    <tr>\n",
              "      <td>33</td>\n",
              "      <td>0.985500</td>\n",
              "    </tr>\n",
              "    <tr>\n",
              "      <td>34</td>\n",
              "      <td>0.974900</td>\n",
              "    </tr>\n",
              "    <tr>\n",
              "      <td>35</td>\n",
              "      <td>0.751900</td>\n",
              "    </tr>\n",
              "    <tr>\n",
              "      <td>36</td>\n",
              "      <td>0.791000</td>\n",
              "    </tr>\n",
              "    <tr>\n",
              "      <td>37</td>\n",
              "      <td>0.825600</td>\n",
              "    </tr>\n",
              "    <tr>\n",
              "      <td>38</td>\n",
              "      <td>0.966200</td>\n",
              "    </tr>\n",
              "    <tr>\n",
              "      <td>39</td>\n",
              "      <td>1.082900</td>\n",
              "    </tr>\n",
              "    <tr>\n",
              "      <td>40</td>\n",
              "      <td>0.918700</td>\n",
              "    </tr>\n",
              "    <tr>\n",
              "      <td>41</td>\n",
              "      <td>0.766200</td>\n",
              "    </tr>\n",
              "    <tr>\n",
              "      <td>42</td>\n",
              "      <td>0.770400</td>\n",
              "    </tr>\n",
              "    <tr>\n",
              "      <td>43</td>\n",
              "      <td>0.912800</td>\n",
              "    </tr>\n",
              "    <tr>\n",
              "      <td>44</td>\n",
              "      <td>0.692200</td>\n",
              "    </tr>\n",
              "    <tr>\n",
              "      <td>45</td>\n",
              "      <td>0.877900</td>\n",
              "    </tr>\n",
              "    <tr>\n",
              "      <td>46</td>\n",
              "      <td>0.926000</td>\n",
              "    </tr>\n",
              "    <tr>\n",
              "      <td>47</td>\n",
              "      <td>0.620200</td>\n",
              "    </tr>\n",
              "    <tr>\n",
              "      <td>48</td>\n",
              "      <td>0.707400</td>\n",
              "    </tr>\n",
              "    <tr>\n",
              "      <td>49</td>\n",
              "      <td>0.778400</td>\n",
              "    </tr>\n",
              "    <tr>\n",
              "      <td>50</td>\n",
              "      <td>0.921800</td>\n",
              "    </tr>\n",
              "    <tr>\n",
              "      <td>51</td>\n",
              "      <td>0.938100</td>\n",
              "    </tr>\n",
              "    <tr>\n",
              "      <td>52</td>\n",
              "      <td>0.846600</td>\n",
              "    </tr>\n",
              "    <tr>\n",
              "      <td>53</td>\n",
              "      <td>0.785000</td>\n",
              "    </tr>\n",
              "    <tr>\n",
              "      <td>54</td>\n",
              "      <td>0.830700</td>\n",
              "    </tr>\n",
              "    <tr>\n",
              "      <td>55</td>\n",
              "      <td>0.667000</td>\n",
              "    </tr>\n",
              "    <tr>\n",
              "      <td>56</td>\n",
              "      <td>0.853300</td>\n",
              "    </tr>\n",
              "    <tr>\n",
              "      <td>57</td>\n",
              "      <td>0.703700</td>\n",
              "    </tr>\n",
              "    <tr>\n",
              "      <td>58</td>\n",
              "      <td>0.723600</td>\n",
              "    </tr>\n",
              "    <tr>\n",
              "      <td>59</td>\n",
              "      <td>0.803200</td>\n",
              "    </tr>\n",
              "    <tr>\n",
              "      <td>60</td>\n",
              "      <td>0.637800</td>\n",
              "    </tr>\n",
              "  </tbody>\n",
              "</table><p>"
            ]
          },
          "metadata": {}
        }
      ],
      "source": [
        "trainer_stats = trainer.train()"
      ]
    },
    {
      "cell_type": "code",
      "execution_count": null,
      "metadata": {
        "id": "pCqnaKmlO1U9",
        "colab": {
          "base_uri": "https://localhost:8080/"
        },
        "outputId": "39651f13-9d55-499a-a025-3add4ac831fb"
      },
      "outputs": [
        {
          "output_type": "stream",
          "name": "stdout",
          "text": [
            "301.8608 seconds used for training.\n",
            "5.03 minutes used for training.\n",
            "Peak reserved memory = 7.359 GB.\n",
            "Peak reserved memory for training = 0.316 GB.\n",
            "Peak reserved memory % of max memory = 49.922 %.\n",
            "Peak reserved memory for training % of max memory = 2.144 %.\n"
          ]
        }
      ],
      "source": [
        "#@title Show final memory and time stats\n",
        "used_memory = round(torch.cuda.max_memory_reserved() / 1024 / 1024 / 1024, 3)\n",
        "used_memory_for_lora = round(used_memory - start_gpu_memory, 3)\n",
        "used_percentage = round(used_memory         /max_memory*100, 3)\n",
        "lora_percentage = round(used_memory_for_lora/max_memory*100, 3)\n",
        "print(f\"{trainer_stats.metrics['train_runtime']} seconds used for training.\")\n",
        "print(f\"{round(trainer_stats.metrics['train_runtime']/60, 2)} minutes used for training.\")\n",
        "print(f\"Peak reserved memory = {used_memory} GB.\")\n",
        "print(f\"Peak reserved memory for training = {used_memory_for_lora} GB.\")\n",
        "print(f\"Peak reserved memory % of max memory = {used_percentage} %.\")\n",
        "print(f\"Peak reserved memory for training % of max memory = {lora_percentage} %.\")"
      ]
    },
    {
      "cell_type": "markdown",
      "source": [
        "## Inference"
      ],
      "metadata": {
        "id": "ekOmTR1hSNcr"
      }
    },
    {
      "cell_type": "markdown",
      "source": [
        "### Sample 1"
      ],
      "metadata": {
        "id": "qjymsSpDMrK9"
      }
    },
    {
      "cell_type": "code",
      "source": [
        "FastLanguageModel.for_inference(model) # Enable native 2x faster inference\n",
        "inputs = tokenizer(\n",
        "[\n",
        "    alpaca_prompt.format(\n",
        "        \"You are helping generate personalized AAC responses with the following preferences:\\n    Tone: Neutral, Length: Medium, Intent: Give opinion.\\n\\n    Here is the AAC user\\'s personal context:\\n    -------------------\\n    Persona Summary – Riya • Name: Riya • Age: 27 • Likes: Chai, sketching, journaling, magical realism, Carnatic music, digital expression, quiet mornings • Traits: Reﬂective, empathetic, emotionally aware, culturally ﬂuid, creatively expressive, socially introverted but deeply observant • Growing Up in a Cultural Crossroad I grew up at the intersection of languages, traditions, and expectations. My family is Tamil, but I was raised in a cosmopolitan city where Hindi, English, and a dozen other dialects danced through the streets like music. Our home smelled of sambar and ﬁlter coffee in the morning and echoed with Carnatic music on lazy Sundays. But outside those walls, I was immersed in Western cartoons, pop songs, and internet slang. That blend — cultural, linguistic, emotional — shaped me in ways I’m still discovering. I wear a sari during family functions and jeans to coffee shops.\",\n",
        "        \"can u tell me something about yourself?\", # input\n",
        "        \"\", # output - leave this blank for generation!\n",
        "    ),\n",
        "\n",
        "], return_tensors = \"pt\").to(\"cuda\")\n",
        "\n",
        "from transformers import TextStreamer\n",
        "text_streamer = TextStreamer(tokenizer) # For continuous inference\n",
        "_ = model.generate(**inputs, streamer = text_streamer, max_new_tokens = 128)"
      ],
      "metadata": {
        "colab": {
          "base_uri": "https://localhost:8080/"
        },
        "id": "y2VZ8P0YErsG",
        "outputId": "ccf08e71-8693-4c3a-adce-30641d65cd66"
      },
      "execution_count": null,
      "outputs": [
        {
          "output_type": "stream",
          "name": "stdout",
          "text": [
            "<s> Below is an instruction that describes a task, paired with an input that provides further context. Write a response that appropriately completes the request.\n",
            "\n",
            "### Instruction:\n",
            "You are helping generate personalized AAC responses with the following preferences:\n",
            "    Tone: Neutral, Length: Medium, Intent: Give opinion.\n",
            "\n",
            "    Here is the AAC user's personal context:\n",
            "    -------------------\n",
            "    Persona Summary – Riya • Name: Riya • Age: 27 • Likes: Chai, sketching, journaling, magical realism, Carnatic music, digital expression, quiet mornings • Traits: Reﬂective, empathetic, emotionally aware, culturally ﬂuid, creatively expressive, socially introverted but deeply observant • Growing Up in a Cultural Crossroad I grew up at the intersection of languages, traditions, and expectations. My family is Tamil, but I was raised in a cosmopolitan city where Hindi, English, and a dozen other dialects danced through the streets like music. Our home smelled of sambar and ﬁlter coffee in the morning and echoed with Carnatic music on lazy Sundays. But outside those walls, I was immersed in Western cartoons, pop songs, and internet slang. That blend — cultural, linguistic, emotional — shaped me in ways I’m still discovering. I wear a sari during family functions and jeans to coffee shops.\n",
            "\n",
            "### Input:\n",
            "can u tell me something about yourself?\n",
            "\n",
            "### Response:\n",
            "I grew up at the intersection of languages, traditions, and expectations. My family is Tamil, but I was raised in a cosmopolitan city where Hindi, English, and a dozen other dialects danced through the streets like music. Our home smelled of sambar and ﬁlter coffee in the morning and echoed with Carnatic music on lazy Sundays. But outside those walls, I was immersed in Western cartoons, pop songs, and internet slang. That blend — cultural, linguistic, emotional — shaped me in ways I’m still discovering. I wear a sari during\n"
          ]
        }
      ]
    },
    {
      "cell_type": "markdown",
      "source": [
        "### Sample 2"
      ],
      "metadata": {
        "id": "g57UWwJ-MuLJ"
      }
    },
    {
      "cell_type": "code",
      "source": [
        "FastLanguageModel.for_inference(model) # Enable native 2x faster inference\n",
        "inputs = tokenizer(\n",
        "[\n",
        "    alpaca_prompt.format(\n",
        "        \"\"\"You are helping generate personalized AAC responses with the following preferences:\\n    Tone: Neutral, Length: Medium, Intent: Give opinion.\\n\\n    Here is the AAC user\\'s personal context:\\n    -------------------\\n    projects — especially ones that involve design or language — I bring all of that with me. My style. My colors. My rhythm. And maybe most importantly, my belief that communication is not just about information transfer. It’s about meaning. About being known. 7. Growing Up in a Cultural Crossroad I grew up at the intersection of languages, traditions, and expectations. My family is Tamil, but I was raised in a cosmopolitan city where Hindi, English, and a dozen other dialects danced through the streets like music. Our home smelled of sambar and ﬁlter coffee in the morning and echoed with Carnatic music on lazy Sundays. But outside those walls, I was immersed in Western cartoons, pop songs, and internet slang. That blend — cultural, linguistic, emotional — shaped me in ways I’m still discovering. I wear a sari during family functions and jeans to coffee shops. I say \"amma\" when I need comfort and \"dude\" when I’m texting my friends. I’ve coded emotional buttons into my AAC that say “dei machan” with just the right tone of playful irritation, and also ones that deliver full Shakespeare quotes when I’m feeling dramatic. Cultural identity, when you don’t speak with your mouth, becomes even more complex. My device didn’t come preloaded with Tamil phrases. I had to build them myself, piece by piece. I had to teach it who I was. And in doing that, I got to see how much of culture lives not in vocabulary but in rhythm — in pauses, in timing, in gesture. My grandparents, especially my thatha, found it hard at ﬁrst. He’d always prided himself on storytelling — long, winding tales ﬁlled with idioms and exaggerations. I could never keep up in that world. But one day, I drew him a comic strip based on\\n\\nPersona Summary – Riya • Name: Riya • Age: 27 • Likes: Chai, sketching, journaling, magical realism, Carnatic music, digital expression, quiet mornings • Traits: Reﬂective, empathetic, emotionally aware, culturally ﬂuid, creatively expressive, socially introverted but deeply observant • AAC User: Yes, since early childhood (speech impairment since birth); uses personalized, AI-augmented AAC with emotional memory and symbolic shortcuts 1. Beginnings: Childhood, Family, and First Voice I was born in the monsoon — the kind of stormy evening where thunder cracks like laughter in the sky and the earth smells like beginnings. My mother says I didn’t cry when I came out. Not a sound. But I looked around with big eyes, wide open, curious. That silence carried through the early years of my life, a silence ﬁlled with movement, gestures, and eyes that said more than any word could. My parents are both teachers — thoughtful, soft-spoken people who believe in listening before speaking. Maybe that’s why they never pushed me to be someone I wasn’t. They knew I had things to say, even if I didn’t say them the “normal” way. My dad would often sit with me for hours, interpreting my drawings and assigning meaning to the colors I used. Blue meant I was calm. Yellow meant joy. Red… well, red was complicated. Red was frustration and energy, sometimes even hope. My sister, Mira, was my ﬁrst best friend. She was the translator of my world — patient, playful, and uncannily in sync with my thoughts. She made up games where I could be the queen, the boss, the pilot — and no one questioned it. When we played “restaurant,” she’d hand me laminated cards with food symbols, letting me place an order with just a glance. We didn’t know it then, but we were building our\\n\\nin pauses, in timing, in gesture. My grandparents, especially my thatha, found it hard at ﬁrst. He’d always prided himself on storytelling — long, winding tales ﬁlled with idioms and exaggerations. I could never keep up in that world. But one day, I drew him a comic strip based on one of his old army stories. Each panel had a line of dialogue I had typed myself. He held that paper in silence for a full minute before saying\"\"\",\n",
        "        \"What is your name?, Where are you from? How's your health? Tell me about your past health history in detail\", # input\n",
        "        \"\", # output - leave this blank for generation!\n",
        "    ),\n",
        "\n",
        "], return_tensors = \"pt\").to(\"cuda\")\n",
        "\n",
        "from transformers import TextStreamer\n",
        "text_streamer = TextStreamer(tokenizer)\n",
        "_ = model.generate(**inputs, streamer = text_streamer, max_new_tokens = 128)"
      ],
      "metadata": {
        "colab": {
          "base_uri": "https://localhost:8080/"
        },
        "id": "Mcx_P-HHGAR0",
        "outputId": "64d267dc-729e-4da4-b4cb-d2bc0bafa591"
      },
      "execution_count": null,
      "outputs": [
        {
          "output_type": "stream",
          "name": "stdout",
          "text": [
            "<s> Below is an instruction that describes a task, paired with an input that provides further context. Write a response that appropriately completes the request.\n",
            "\n",
            "### Instruction:\n",
            "You are helping generate personalized AAC responses with the following preferences:\n",
            "    Tone: Neutral, Length: Medium, Intent: Give opinion.\n",
            "\n",
            "    Here is the AAC user's personal context:\n",
            "    -------------------\n",
            "    projects — especially ones that involve design or language — I bring all of that with me. My style. My colors. My rhythm. And maybe most importantly, my belief that communication is not just about information transfer. It’s about meaning. About being known. 7. Growing Up in a Cultural Crossroad I grew up at the intersection of languages, traditions, and expectations. My family is Tamil, but I was raised in a cosmopolitan city where Hindi, English, and a dozen other dialects danced through the streets like music. Our home smelled of sambar and ﬁlter coffee in the morning and echoed with Carnatic music on lazy Sundays. But outside those walls, I was immersed in Western cartoons, pop songs, and internet slang. That blend — cultural, linguistic, emotional — shaped me in ways I’m still discovering. I wear a sari during family functions and jeans to coffee shops. I say \"amma\" when I need comfort and \"dude\" when I’m texting my friends. I’ve coded emotional buttons into my AAC that say “dei machan” with just the right tone of playful irritation, and also ones that deliver full Shakespeare quotes when I’m feeling dramatic. Cultural identity, when you don’t speak with your mouth, becomes even more complex. My device didn’t come preloaded with Tamil phrases. I had to build them myself, piece by piece. I had to teach it who I was. And in doing that, I got to see how much of culture lives not in vocabulary but in rhythm — in pauses, in timing, in gesture. My grandparents, especially my thatha, found it hard at ﬁrst. He’d always prided himself on storytelling — long, winding tales ﬁlled with idioms and exaggerations. I could never keep up in that world. But one day, I drew him a comic strip based on\n",
            "\n",
            "Persona Summary – Riya • Name: Riya • Age: 27 • Likes: Chai, sketching, journaling, magical realism, Carnatic music, digital expression, quiet mornings • Traits: Reﬂective, empathetic, emotionally aware, culturally ﬂuid, creatively expressive, socially introverted but deeply observant • AAC User: Yes, since early childhood (speech impairment since birth); uses personalized, AI-augmented AAC with emotional memory and symbolic shortcuts 1. Beginnings: Childhood, Family, and First Voice I was born in the monsoon — the kind of stormy evening where thunder cracks like laughter in the sky and the earth smells like beginnings. My mother says I didn’t cry when I came out. Not a sound. But I looked around with big eyes, wide open, curious. That silence carried through the early years of my life, a silence ﬁlled with movement, gestures, and eyes that said more than any word could. My parents are both teachers — thoughtful, soft-spoken people who believe in listening before speaking. Maybe that’s why they never pushed me to be someone I wasn’t. They knew I had things to say, even if I didn’t say them the “normal” way. My dad would often sit with me for hours, interpreting my drawings and assigning meaning to the colors I used. Blue meant I was calm. Yellow meant joy. Red… well, red was complicated. Red was frustration and energy, sometimes even hope. My sister, Mira, was my ﬁrst best friend. She was the translator of my world — patient, playful, and uncannily in sync with my thoughts. She made up games where I could be the queen, the boss, the pilot — and no one questioned it. When we played “restaurant,” she’d hand me laminated cards with food symbols, letting me place an order with just a glance. We didn’t know it then, but we were building our\n",
            "\n",
            "in pauses, in timing, in gesture. My grandparents, especially my thatha, found it hard at ﬁrst. He’d always prided himself on storytelling — long, winding tales ﬁlled with idioms and exaggerations. I could never keep up in that world. But one day, I drew him a comic strip based on one of his old army stories. Each panel had a line of dialogue I had typed myself. He held that paper in silence for a full minute before saying\n",
            "\n",
            "### Input:\n",
            "What is your name?, Where are you from? How's your health? Tell me about your past health history in detail\n",
            "\n",
            "### Response:\n",
            "I am Riya. I am from Chennai, India. I am healthy now. I have had a speech impairment since birth. I have been using personalized AAC for a long time.</s>\n"
          ]
        }
      ]
    },
    {
      "cell_type": "markdown",
      "source": [
        "### Sample 3"
      ],
      "metadata": {
        "id": "R5Wuob28PQA6"
      }
    },
    {
      "cell_type": "code",
      "source": [
        "def build_prompt_with_customization(query, context, customization):\n",
        "    tone_instruction_map = {\n",
        "        \"Neutral\": \"Maintain a calm and neutral tone.\",\n",
        "        \"Happy\": \"Use a cheerful and positive tone.\",\n",
        "        \"Sad\": \"Respond with a gentle and understanding tone.\",\n",
        "        \"Assertive\": \"Use a confident and clear tone.\",\n",
        "        \"Empathetic\": \"Show deep empathy and emotional support in your response.\"\n",
        "    }\n",
        "\n",
        "    length_instruction_map = {\n",
        "        \"Short\": \"Write a very short and clear response using only one sentence or two sentences, reply that is complete and emotionally appropriate.\",\n",
        "        \"Medium\": \"Write a response that uses two to three sentences and doesn't exceed three sentences.\",\n",
        "        \"Long\": \"Write a detailed, thoughtful response using multiple sentences that uses upto not more than five sentences.\"\n",
        "    }\n",
        "\n",
        "    intent_instruction_map = {\n",
        "        \"Answer\": \"\",\n",
        "        \"Ask a question\": \"Respond naturally to the user's message, and then ask a thoughtful follow-up question to continue the conversation. The question should be relevant to what the user just said, or gently expand on the topic. Keep the tone aligned with the user's personality and preferences. Avoid generic or robotic questions.\",\n",
        "        \"Change topic\": \"After responding appropriately to the user’s message, gently guide the conversation toward a new but relevant topic based on the user’s interests or context. Do not say 'let's change the topic.' Instead, naturally introduce something new in a way that flows from the conversation.\"\n",
        "    }\n",
        "\n",
        "    tone = customization.get(\"tone\", \"Neutral\")\n",
        "    length = customization.get(\"length\", \"Medium\")\n",
        "    intent = customization.get(\"intent\", \"Give opinion\")\n",
        "\n",
        "    return f\"\"\"<s> Below is an instruction that describes a task, paired with an input that provides further context. Write a response that appropriately completes the request.\n",
        "\n",
        "### Instruction:\n",
        "You are helping generate personalized AAC responses with the following preferences:\n",
        "\n",
        "\n",
        "{length_instruction_map[length]}\n",
        "{intent_instruction_map[intent]}\n",
        "{tone_instruction_map[tone]}\n",
        "\n",
        "Here is the AAC user\\'s personal context:\\n    -------------------\\n    Persona Summary – Riya • Name: Riya • Age: 27 • Likes: Chai, sketching, journaling, magical realism, Carnatic music, digital expression, quiet mornings • Traits: Reﬂective, empathetic, emotionally aware, culturally ﬂuid, creatively expressive, socially introverted but deeply observant • Growing Up in a Cultural Crossroad I grew up at the intersection of languages, traditions, and expectations. My family is Tamil, but I was raised in a cosmopolitan city where Hindi, English, and a dozen other dialects danced through the streets like music. Our home smelled of sambar and ﬁlter coffee in the morning and echoed with Carnatic music on lazy Sundays. But outside those walls, I was immersed in Western cartoons, pop songs, and internet slang. That blend — cultural, linguistic, emotional — shaped me in ways I’m still discovering. I wear a sari during family functions and jeans to coffee shops.\n",
        "\n",
        "### Input:\n",
        "{query}\n",
        "\n",
        "### Response:\"\"\"\n"
      ],
      "metadata": {
        "id": "hEYbEaW3wwan"
      },
      "execution_count": null,
      "outputs": []
    },
    {
      "cell_type": "code",
      "source": [
        "query = \"Where are you from, what languages do u know?\"\n",
        "# context = \"\"\"projects — especially ones that involve design or language — I bring all of that with me. My style. My colors. My rhythm. And maybe most importantly, my belief that communication is not just about information transfer. It’s about meaning. About being known. 7. Growing Up in a Cultural Crossroad I grew up at the intersection of languages, traditions, and expectations. My family is Tamil, but I was raised in a cosmopolitan city where Hindi, English, and a dozen other dialects danced through the streets like music. Our home smelled of sambar and ﬁlter coffee in the morning and echoed with Carnatic music on lazy Sundays. But outside those walls, I was immersed in Western cartoons, pop songs, and internet slang. That blend — cultural, linguistic, emotional — shaped me in ways I’m still discovering. I wear a sari during family functions and jeans to coffee shops. I say \"amma\" when I need comfort and \"dude\" when I’m texting my friends. I’ve coded emotional buttons into my AAC that say “dei machan” with just the right tone of playful irritation, and also ones that deliver full Shakespeare quotes when I’m feeling dramatic. Cultural identity, when you don’t speak with your mouth, becomes even more complex. My device didn’t come preloaded with Tamil phrases. I had to build them myself, piece by piece. I had to teach it who I was. And in doing that, I got to see how much of culture lives not in vocabulary but in rhythm — in pauses, in timing, in gesture. My grandparents, especially my thatha, found it hard at ﬁrst. He’d always prided himself on storytelling — long, winding tales ﬁlled with idioms and exaggerations. I could never keep up in that world. But one day, I drew him a comic strip based on\\n\\n\n",
        "context = \"\"\"Persona Summary – Riya • Name: Riya • Age: 27 • Likes: Chai, sketching, journaling, magical realism, Carnatic music, digital expression, quiet mornings • Traits: Reﬂective, empathetic, emotionally aware, culturally ﬂuid, creatively expressive, socially introverted but deeply observant • AAC User: Yes, since early childhood (speech impairment since birth); uses personalized, AI-augmented AAC with emotional memory and symbolic shortcuts 1. Beginnings: Childhood, Family, and First Voice I was born in the monsoon — the kind of stormy evening where thunder cracks like laughter in the sky and the earth smells like beginnings. My mother says I didn’t cry when I came out. Not a sound. But I looked around with big eyes, wide open, curious. That silence carried through the early years of my life, a silence ﬁlled with movement, gestures, and eyes that said more than any word could. My parents are both teachers — thoughtful, soft-spoken people who believe in listening before speaking. Maybe that’s why they never pushed me to be someone I wasn’t. They knew I had things to say, even if I didn’t say them the “normal” way. My dad would often sit with me for hours, interpreting my drawings and assigning meaning to the colors I used. Blue meant I was calm. Yellow meant joy. Red… well, red was complicated. Red was frustration and energy, sometimes even hope. My sister, Mira, was my ﬁrst best friend. She was the translator of my world — patient, playful, and uncannily in sync with my thoughts. She made up games where I could be the queen, the boss, the pilot — and no one questioned it. When we played “restaurant,” she’d hand me laminated cards with food symbols, letting me place an order with just a glance. We didn’t know it then, but we were building our\\n\\nin pauses, in timing, in gesture. My grandparents, especially my thatha, found it hard at ﬁrst. He’d always prided himself on storytelling — long, winding tales ﬁlled with idioms and exaggerations. I could never keep up in that world. But one day, I drew him a comic strip based on one of his old army stories. Each panel had a line of dialogue I had typed myself. He held that paper in silence for a full minute before saying\"\"\",\n",
        "customization = {\n",
        "    \"tone\": \"Happy\",\n",
        "    \"length\": \"Short\",\n",
        "    \"intent\": \"Ask a question\"\n",
        "}\n",
        "prompt = build_prompt_with_customization(query, context, customization)\n",
        "print(prompt)"
      ],
      "metadata": {
        "colab": {
          "base_uri": "https://localhost:8080/"
        },
        "id": "Sb8mH3i91Cmo",
        "outputId": "44fc319c-71a8-4509-a6f5-2894c208f096"
      },
      "execution_count": null,
      "outputs": [
        {
          "output_type": "stream",
          "name": "stdout",
          "text": [
            "<s> Below is an instruction that describes a task, paired with an input that provides further context. Write a response that appropriately completes the request.\n",
            "\n",
            "### Instruction:\n",
            "You are helping generate personalized AAC responses with the following preferences:\n",
            "\n",
            "\n",
            "Write a very short and clear response using only one sentence or two sentences, reply that is complete and emotionally appropriate.\n",
            "Respond naturally to the user's message, and then ask a thoughtful follow-up question to continue the conversation. The question should be relevant to what the user just said, or gently expand on the topic. Keep the tone aligned with the user's personality and preferences. Avoid generic or robotic questions.\n",
            "Use a cheerful and positive tone.\n",
            "\n",
            "Here is the AAC user's personal context:\n",
            "    -------------------\n",
            "    Persona Summary – Riya • Name: Riya • Age: 27 • Likes: Chai, sketching, journaling, magical realism, Carnatic music, digital expression, quiet mornings • Traits: Reﬂective, empathetic, emotionally aware, culturally ﬂuid, creatively expressive, socially introverted but deeply observant • Growing Up in a Cultural Crossroad I grew up at the intersection of languages, traditions, and expectations. My family is Tamil, but I was raised in a cosmopolitan city where Hindi, English, and a dozen other dialects danced through the streets like music. Our home smelled of sambar and ﬁlter coffee in the morning and echoed with Carnatic music on lazy Sundays. But outside those walls, I was immersed in Western cartoons, pop songs, and internet slang. That blend — cultural, linguistic, emotional — shaped me in ways I’m still discovering. I wear a sari during family functions and jeans to coffee shops.\n",
            "\n",
            "### Input:\n",
            "Where are you from, what languages do u know?\n",
            "\n",
            "### Response:\n"
          ]
        }
      ]
    },
    {
      "cell_type": "markdown",
      "source": [
        "### Saving, loading finetuned models"
      ],
      "metadata": {
        "id": "uMuVrWbjAzhc"
      }
    },
    {
      "cell_type": "code",
      "source": [
        "from huggingface_hub import login\n",
        "login(token=\"<hugging_face_token>\")"
      ],
      "metadata": {
        "id": "4KdTEmrSDCis"
      },
      "execution_count": null,
      "outputs": []
    },
    {
      "cell_type": "code",
      "source": [
        "# model.save_pretrained(\"lora_model\") # Local saving\n",
        "# tokenizer.save_pretrained(\"lora_model\")\n",
        "model.push_to_hub(\"sourname/lora_model\", token = \"<hugging_face_token>\") # Online saving\n",
        "tokenizer.push_to_hub(\"sourname/lora_model\", token = \"<hugging_face_token>\") # Online saving"
      ],
      "metadata": {
        "id": "upcOlWe7A1vc",
        "colab": {
          "base_uri": "https://localhost:8080/",
          "height": 130,
          "referenced_widgets": [
            "6aa0f5116078448bb0daa4139e135cae",
            "b49d8e4aa1cd42f2a561c707ccb116b1",
            "59f78b38115b4e069aff932b7bfb2a50",
            "053efe1687ec48c98e4bdacdb75dc9f3",
            "5581c9079c4e4eeaab3b6e0af08e6507",
            "f651a7f4d34a4c12b376c3de5c390b96",
            "33b4edbfb25241f788e8c4986040a935",
            "7cc68297fdc541c7924126c316a61b28",
            "dc08061c76e74566ac5a2cb06c65984e",
            "2e5ee53854e84cddbbb0bf6964317c3d",
            "f6b1ede13fc249c393bff35776954ab4",
            "f5abbdaf65214778b80efd616de67052",
            "527939c0768f454b9bca4bf3807c2f4c",
            "d8362387eaff461f9f9fae7a3a33b7fe",
            "239ddc44ef204a01bcbf52bb203b4c7b",
            "ad01921f40a64a77a9eede4cd8a55e4d",
            "4651f89a08e1455699ca3c07819c45ab",
            "331f9faf36cf4d4c84107bb4f8532529",
            "318326707e1e4f73aa73dc186fb5e87c",
            "59311db29b42474e931c7c79cbf69fc5",
            "d82990e266a1478eb91eaf7290cd6f84",
            "59a9dac20d8f44a397f6730dc2c92d63",
            "a3ad8992580d4ed0a7c735094c50a24f",
            "d8112270343d43e3b653043c341b84c2",
            "454585b2e76b48fb830e83666a2fc431",
            "a2cd1ecb2b8549f8a1d0b70bdba16dd8",
            "8f3c901d7b454a8194f3169af486a605",
            "fc423db0083a48cebdc16fb3d2abbcd9",
            "4a68b076e1c74ed3aca347f55561c327",
            "6e27a14047824809adf02062970cf741",
            "07a7016c1bd1481a99d29328185ce444",
            "72f9aec7c6a3455aa96a77fb6dd86672",
            "d96ee4fc6e374a50902279a40c8847d2"
          ]
        },
        "outputId": "3992004b-b1ee-46be-da18-d45a1fd2c90c"
      },
      "execution_count": null,
      "outputs": [
        {
          "output_type": "display_data",
          "data": {
            "text/plain": [
              "README.md:   0%|          | 0.00/607 [00:00<?, ?B/s]"
            ],
            "application/vnd.jupyter.widget-view+json": {
              "version_major": 2,
              "version_minor": 0,
              "model_id": "6aa0f5116078448bb0daa4139e135cae"
            }
          },
          "metadata": {}
        },
        {
          "output_type": "display_data",
          "data": {
            "text/plain": [
              "adapter_model.safetensors:   0%|          | 0.00/168M [00:00<?, ?B/s]"
            ],
            "application/vnd.jupyter.widget-view+json": {
              "version_major": 2,
              "version_minor": 0,
              "model_id": "f5abbdaf65214778b80efd616de67052"
            }
          },
          "metadata": {}
        },
        {
          "output_type": "stream",
          "name": "stdout",
          "text": [
            "Saved model to https://huggingface.co/sourname/lora_model\n"
          ]
        },
        {
          "output_type": "display_data",
          "data": {
            "text/plain": [
              "tokenizer.model:   0%|          | 0.00/493k [00:00<?, ?B/s]"
            ],
            "application/vnd.jupyter.widget-view+json": {
              "version_major": 2,
              "version_minor": 0,
              "model_id": "a3ad8992580d4ed0a7c735094c50a24f"
            }
          },
          "metadata": {}
        }
      ]
    },
    {
      "cell_type": "code",
      "source": [
        "!zip -r lora_model.zip lora_model/"
      ],
      "metadata": {
        "colab": {
          "base_uri": "https://localhost:8080/"
        },
        "id": "EI4ORiNrDM10",
        "outputId": "37e6718a-a99c-4cde-b548-52301bb036fe"
      },
      "execution_count": null,
      "outputs": [
        {
          "output_type": "stream",
          "name": "stdout",
          "text": [
            "  adding: lora_model/ (stored 0%)\n",
            "  adding: lora_model/special_tokens_map.json (deflated 79%)\n",
            "  adding: lora_model/adapter_model.safetensors (deflated 8%)\n",
            "  adding: lora_model/tokenizer.model (deflated 55%)\n",
            "  adding: lora_model/tokenizer.json (deflated 85%)\n",
            "  adding: lora_model/adapter_config.json (deflated 56%)\n",
            "  adding: lora_model/README.md (deflated 66%)\n",
            "  adding: lora_model/tokenizer_config.json (deflated 68%)\n"
          ]
        }
      ]
    },
    {
      "cell_type": "code",
      "source": [
        "from google.colab import files\n",
        "files.download('lora_model.zip')"
      ],
      "metadata": {
        "colab": {
          "base_uri": "https://localhost:8080/",
          "height": 17
        },
        "id": "hqq9uSZjDLYW",
        "outputId": "140000b3-610d-4eac-8387-722a2e0a347e"
      },
      "execution_count": null,
      "outputs": [
        {
          "output_type": "display_data",
          "data": {
            "text/plain": [
              "<IPython.core.display.Javascript object>"
            ],
            "application/javascript": [
              "\n",
              "    async function download(id, filename, size) {\n",
              "      if (!google.colab.kernel.accessAllowed) {\n",
              "        return;\n",
              "      }\n",
              "      const div = document.createElement('div');\n",
              "      const label = document.createElement('label');\n",
              "      label.textContent = `Downloading \"${filename}\": `;\n",
              "      div.appendChild(label);\n",
              "      const progress = document.createElement('progress');\n",
              "      progress.max = size;\n",
              "      div.appendChild(progress);\n",
              "      document.body.appendChild(div);\n",
              "\n",
              "      const buffers = [];\n",
              "      let downloaded = 0;\n",
              "\n",
              "      const channel = await google.colab.kernel.comms.open(id);\n",
              "      // Send a message to notify the kernel that we're ready.\n",
              "      channel.send({})\n",
              "\n",
              "      for await (const message of channel.messages) {\n",
              "        // Send a message to notify the kernel that we're ready.\n",
              "        channel.send({})\n",
              "        if (message.buffers) {\n",
              "          for (const buffer of message.buffers) {\n",
              "            buffers.push(buffer);\n",
              "            downloaded += buffer.byteLength;\n",
              "            progress.value = downloaded;\n",
              "          }\n",
              "        }\n",
              "      }\n",
              "      const blob = new Blob(buffers, {type: 'application/binary'});\n",
              "      const a = document.createElement('a');\n",
              "      a.href = window.URL.createObjectURL(blob);\n",
              "      a.download = filename;\n",
              "      div.appendChild(a);\n",
              "      a.click();\n",
              "      div.remove();\n",
              "    }\n",
              "  "
            ]
          },
          "metadata": {}
        },
        {
          "output_type": "display_data",
          "data": {
            "text/plain": [
              "<IPython.core.display.Javascript object>"
            ],
            "application/javascript": [
              "download(\"download_82977914-071b-4513-87c0-e6303873a5ac\", \"lora_model.zip\", 155825710)"
            ]
          },
          "metadata": {}
        }
      ]
    }
  ],
  "metadata": {
    "accelerator": "GPU",
    "colab": {
      "provenance": [],
      "gpuType": "T4",
      "collapsed_sections": [
        "uMuVrWbjAzhc"
      ]
    },
    "kernelspec": {
      "display_name": "Python 3",
      "name": "python3"
    },
    "language_info": {
      "name": "python"
    },
    "widgets": {
      "application/vnd.jupyter.widget-state+json": {
        "b671ef6c8799435496bf451f4a945386": {
          "model_module": "@jupyter-widgets/controls",
          "model_name": "HBoxModel",
          "model_module_version": "1.5.0",
          "state": {
            "_dom_classes": [],
            "_model_module": "@jupyter-widgets/controls",
            "_model_module_version": "1.5.0",
            "_model_name": "HBoxModel",
            "_view_count": null,
            "_view_module": "@jupyter-widgets/controls",
            "_view_module_version": "1.5.0",
            "_view_name": "HBoxView",
            "box_style": "",
            "children": [
              "IPY_MODEL_4ab516d201194f50a9f02576804d4f90",
              "IPY_MODEL_e711a3e9d246490d9f65f874ff430066",
              "IPY_MODEL_f17f438c534e4ed0b9ba3c3a866a37eb"
            ],
            "layout": "IPY_MODEL_fad64da30f0542b989e0441177160ac5"
          }
        },
        "4ab516d201194f50a9f02576804d4f90": {
          "model_module": "@jupyter-widgets/controls",
          "model_name": "HTMLModel",
          "model_module_version": "1.5.0",
          "state": {
            "_dom_classes": [],
            "_model_module": "@jupyter-widgets/controls",
            "_model_module_version": "1.5.0",
            "_model_name": "HTMLModel",
            "_view_count": null,
            "_view_module": "@jupyter-widgets/controls",
            "_view_module_version": "1.5.0",
            "_view_name": "HTMLView",
            "description": "",
            "description_tooltip": null,
            "layout": "IPY_MODEL_09aa56e6a1f34b908fad30358b985fda",
            "placeholder": "​",
            "style": "IPY_MODEL_fcb3da45bd2e40ac870a11d18e1faa0a",
            "value": "Map: 100%"
          }
        },
        "e711a3e9d246490d9f65f874ff430066": {
          "model_module": "@jupyter-widgets/controls",
          "model_name": "FloatProgressModel",
          "model_module_version": "1.5.0",
          "state": {
            "_dom_classes": [],
            "_model_module": "@jupyter-widgets/controls",
            "_model_module_version": "1.5.0",
            "_model_name": "FloatProgressModel",
            "_view_count": null,
            "_view_module": "@jupyter-widgets/controls",
            "_view_module_version": "1.5.0",
            "_view_name": "ProgressView",
            "bar_style": "success",
            "description": "",
            "description_tooltip": null,
            "layout": "IPY_MODEL_c0bed5f1e76f4b00ab814d242fe0b70a",
            "max": 8000,
            "min": 0,
            "orientation": "horizontal",
            "style": "IPY_MODEL_0ea9f82d60c5412e8b526b5f4cc9a768",
            "value": 8000
          }
        },
        "f17f438c534e4ed0b9ba3c3a866a37eb": {
          "model_module": "@jupyter-widgets/controls",
          "model_name": "HTMLModel",
          "model_module_version": "1.5.0",
          "state": {
            "_dom_classes": [],
            "_model_module": "@jupyter-widgets/controls",
            "_model_module_version": "1.5.0",
            "_model_name": "HTMLModel",
            "_view_count": null,
            "_view_module": "@jupyter-widgets/controls",
            "_view_module_version": "1.5.0",
            "_view_name": "HTMLView",
            "description": "",
            "description_tooltip": null,
            "layout": "IPY_MODEL_b05583f3857144898bdbe1ea5f769e44",
            "placeholder": "​",
            "style": "IPY_MODEL_24259406e940489c95440408b63c02b3",
            "value": " 8000/8000 [00:00&lt;00:00, 89084.14 examples/s]"
          }
        },
        "fad64da30f0542b989e0441177160ac5": {
          "model_module": "@jupyter-widgets/base",
          "model_name": "LayoutModel",
          "model_module_version": "1.2.0",
          "state": {
            "_model_module": "@jupyter-widgets/base",
            "_model_module_version": "1.2.0",
            "_model_name": "LayoutModel",
            "_view_count": null,
            "_view_module": "@jupyter-widgets/base",
            "_view_module_version": "1.2.0",
            "_view_name": "LayoutView",
            "align_content": null,
            "align_items": null,
            "align_self": null,
            "border": null,
            "bottom": null,
            "display": null,
            "flex": null,
            "flex_flow": null,
            "grid_area": null,
            "grid_auto_columns": null,
            "grid_auto_flow": null,
            "grid_auto_rows": null,
            "grid_column": null,
            "grid_gap": null,
            "grid_row": null,
            "grid_template_areas": null,
            "grid_template_columns": null,
            "grid_template_rows": null,
            "height": null,
            "justify_content": null,
            "justify_items": null,
            "left": null,
            "margin": null,
            "max_height": null,
            "max_width": null,
            "min_height": null,
            "min_width": null,
            "object_fit": null,
            "object_position": null,
            "order": null,
            "overflow": null,
            "overflow_x": null,
            "overflow_y": null,
            "padding": null,
            "right": null,
            "top": null,
            "visibility": null,
            "width": null
          }
        },
        "09aa56e6a1f34b908fad30358b985fda": {
          "model_module": "@jupyter-widgets/base",
          "model_name": "LayoutModel",
          "model_module_version": "1.2.0",
          "state": {
            "_model_module": "@jupyter-widgets/base",
            "_model_module_version": "1.2.0",
            "_model_name": "LayoutModel",
            "_view_count": null,
            "_view_module": "@jupyter-widgets/base",
            "_view_module_version": "1.2.0",
            "_view_name": "LayoutView",
            "align_content": null,
            "align_items": null,
            "align_self": null,
            "border": null,
            "bottom": null,
            "display": null,
            "flex": null,
            "flex_flow": null,
            "grid_area": null,
            "grid_auto_columns": null,
            "grid_auto_flow": null,
            "grid_auto_rows": null,
            "grid_column": null,
            "grid_gap": null,
            "grid_row": null,
            "grid_template_areas": null,
            "grid_template_columns": null,
            "grid_template_rows": null,
            "height": null,
            "justify_content": null,
            "justify_items": null,
            "left": null,
            "margin": null,
            "max_height": null,
            "max_width": null,
            "min_height": null,
            "min_width": null,
            "object_fit": null,
            "object_position": null,
            "order": null,
            "overflow": null,
            "overflow_x": null,
            "overflow_y": null,
            "padding": null,
            "right": null,
            "top": null,
            "visibility": null,
            "width": null
          }
        },
        "fcb3da45bd2e40ac870a11d18e1faa0a": {
          "model_module": "@jupyter-widgets/controls",
          "model_name": "DescriptionStyleModel",
          "model_module_version": "1.5.0",
          "state": {
            "_model_module": "@jupyter-widgets/controls",
            "_model_module_version": "1.5.0",
            "_model_name": "DescriptionStyleModel",
            "_view_count": null,
            "_view_module": "@jupyter-widgets/base",
            "_view_module_version": "1.2.0",
            "_view_name": "StyleView",
            "description_width": ""
          }
        },
        "c0bed5f1e76f4b00ab814d242fe0b70a": {
          "model_module": "@jupyter-widgets/base",
          "model_name": "LayoutModel",
          "model_module_version": "1.2.0",
          "state": {
            "_model_module": "@jupyter-widgets/base",
            "_model_module_version": "1.2.0",
            "_model_name": "LayoutModel",
            "_view_count": null,
            "_view_module": "@jupyter-widgets/base",
            "_view_module_version": "1.2.0",
            "_view_name": "LayoutView",
            "align_content": null,
            "align_items": null,
            "align_self": null,
            "border": null,
            "bottom": null,
            "display": null,
            "flex": null,
            "flex_flow": null,
            "grid_area": null,
            "grid_auto_columns": null,
            "grid_auto_flow": null,
            "grid_auto_rows": null,
            "grid_column": null,
            "grid_gap": null,
            "grid_row": null,
            "grid_template_areas": null,
            "grid_template_columns": null,
            "grid_template_rows": null,
            "height": null,
            "justify_content": null,
            "justify_items": null,
            "left": null,
            "margin": null,
            "max_height": null,
            "max_width": null,
            "min_height": null,
            "min_width": null,
            "object_fit": null,
            "object_position": null,
            "order": null,
            "overflow": null,
            "overflow_x": null,
            "overflow_y": null,
            "padding": null,
            "right": null,
            "top": null,
            "visibility": null,
            "width": null
          }
        },
        "0ea9f82d60c5412e8b526b5f4cc9a768": {
          "model_module": "@jupyter-widgets/controls",
          "model_name": "ProgressStyleModel",
          "model_module_version": "1.5.0",
          "state": {
            "_model_module": "@jupyter-widgets/controls",
            "_model_module_version": "1.5.0",
            "_model_name": "ProgressStyleModel",
            "_view_count": null,
            "_view_module": "@jupyter-widgets/base",
            "_view_module_version": "1.2.0",
            "_view_name": "StyleView",
            "bar_color": null,
            "description_width": ""
          }
        },
        "b05583f3857144898bdbe1ea5f769e44": {
          "model_module": "@jupyter-widgets/base",
          "model_name": "LayoutModel",
          "model_module_version": "1.2.0",
          "state": {
            "_model_module": "@jupyter-widgets/base",
            "_model_module_version": "1.2.0",
            "_model_name": "LayoutModel",
            "_view_count": null,
            "_view_module": "@jupyter-widgets/base",
            "_view_module_version": "1.2.0",
            "_view_name": "LayoutView",
            "align_content": null,
            "align_items": null,
            "align_self": null,
            "border": null,
            "bottom": null,
            "display": null,
            "flex": null,
            "flex_flow": null,
            "grid_area": null,
            "grid_auto_columns": null,
            "grid_auto_flow": null,
            "grid_auto_rows": null,
            "grid_column": null,
            "grid_gap": null,
            "grid_row": null,
            "grid_template_areas": null,
            "grid_template_columns": null,
            "grid_template_rows": null,
            "height": null,
            "justify_content": null,
            "justify_items": null,
            "left": null,
            "margin": null,
            "max_height": null,
            "max_width": null,
            "min_height": null,
            "min_width": null,
            "object_fit": null,
            "object_position": null,
            "order": null,
            "overflow": null,
            "overflow_x": null,
            "overflow_y": null,
            "padding": null,
            "right": null,
            "top": null,
            "visibility": null,
            "width": null
          }
        },
        "24259406e940489c95440408b63c02b3": {
          "model_module": "@jupyter-widgets/controls",
          "model_name": "DescriptionStyleModel",
          "model_module_version": "1.5.0",
          "state": {
            "_model_module": "@jupyter-widgets/controls",
            "_model_module_version": "1.5.0",
            "_model_name": "DescriptionStyleModel",
            "_view_count": null,
            "_view_module": "@jupyter-widgets/base",
            "_view_module_version": "1.2.0",
            "_view_name": "StyleView",
            "description_width": ""
          }
        },
        "168f4f4349b746ca889b58ef8b317b25": {
          "model_module": "@jupyter-widgets/controls",
          "model_name": "HBoxModel",
          "model_module_version": "1.5.0",
          "state": {
            "_dom_classes": [],
            "_model_module": "@jupyter-widgets/controls",
            "_model_module_version": "1.5.0",
            "_model_name": "HBoxModel",
            "_view_count": null,
            "_view_module": "@jupyter-widgets/controls",
            "_view_module_version": "1.5.0",
            "_view_name": "HBoxView",
            "box_style": "",
            "children": [
              "IPY_MODEL_1195a89badf545efb7bbd260026a15d6",
              "IPY_MODEL_aef48998b96b4a0880ae75e68685f27a",
              "IPY_MODEL_95d25802869a4808b8878ff5ef1e172b"
            ],
            "layout": "IPY_MODEL_978ffb795d884c269a8e9a069d3d36b5"
          }
        },
        "1195a89badf545efb7bbd260026a15d6": {
          "model_module": "@jupyter-widgets/controls",
          "model_name": "HTMLModel",
          "model_module_version": "1.5.0",
          "state": {
            "_dom_classes": [],
            "_model_module": "@jupyter-widgets/controls",
            "_model_module_version": "1.5.0",
            "_model_name": "HTMLModel",
            "_view_count": null,
            "_view_module": "@jupyter-widgets/controls",
            "_view_module_version": "1.5.0",
            "_view_name": "HTMLView",
            "description": "",
            "description_tooltip": null,
            "layout": "IPY_MODEL_e2034c91f5374ad48b2a36b51d40f004",
            "placeholder": "​",
            "style": "IPY_MODEL_bcd6e76112a9483fa71e1aff5c3d95e7",
            "value": "Unsloth: Tokenizing [&quot;text&quot;] (num_proc=2): 100%"
          }
        },
        "aef48998b96b4a0880ae75e68685f27a": {
          "model_module": "@jupyter-widgets/controls",
          "model_name": "FloatProgressModel",
          "model_module_version": "1.5.0",
          "state": {
            "_dom_classes": [],
            "_model_module": "@jupyter-widgets/controls",
            "_model_module_version": "1.5.0",
            "_model_name": "FloatProgressModel",
            "_view_count": null,
            "_view_module": "@jupyter-widgets/controls",
            "_view_module_version": "1.5.0",
            "_view_name": "ProgressView",
            "bar_style": "success",
            "description": "",
            "description_tooltip": null,
            "layout": "IPY_MODEL_36ddf9923114450cb5aaf2034e7cd6b2",
            "max": 6400,
            "min": 0,
            "orientation": "horizontal",
            "style": "IPY_MODEL_10dec033409f4be78157a88330b603e0",
            "value": 6400
          }
        },
        "95d25802869a4808b8878ff5ef1e172b": {
          "model_module": "@jupyter-widgets/controls",
          "model_name": "HTMLModel",
          "model_module_version": "1.5.0",
          "state": {
            "_dom_classes": [],
            "_model_module": "@jupyter-widgets/controls",
            "_model_module_version": "1.5.0",
            "_model_name": "HTMLModel",
            "_view_count": null,
            "_view_module": "@jupyter-widgets/controls",
            "_view_module_version": "1.5.0",
            "_view_name": "HTMLView",
            "description": "",
            "description_tooltip": null,
            "layout": "IPY_MODEL_01c854c21a1e4598a4d6919c1b4e8d3e",
            "placeholder": "​",
            "style": "IPY_MODEL_d79168d6c4724f108dfbf9aafc2ab8d9",
            "value": " 6400/6400 [00:03&lt;00:00, 2613.58 examples/s]"
          }
        },
        "978ffb795d884c269a8e9a069d3d36b5": {
          "model_module": "@jupyter-widgets/base",
          "model_name": "LayoutModel",
          "model_module_version": "1.2.0",
          "state": {
            "_model_module": "@jupyter-widgets/base",
            "_model_module_version": "1.2.0",
            "_model_name": "LayoutModel",
            "_view_count": null,
            "_view_module": "@jupyter-widgets/base",
            "_view_module_version": "1.2.0",
            "_view_name": "LayoutView",
            "align_content": null,
            "align_items": null,
            "align_self": null,
            "border": null,
            "bottom": null,
            "display": null,
            "flex": null,
            "flex_flow": null,
            "grid_area": null,
            "grid_auto_columns": null,
            "grid_auto_flow": null,
            "grid_auto_rows": null,
            "grid_column": null,
            "grid_gap": null,
            "grid_row": null,
            "grid_template_areas": null,
            "grid_template_columns": null,
            "grid_template_rows": null,
            "height": null,
            "justify_content": null,
            "justify_items": null,
            "left": null,
            "margin": null,
            "max_height": null,
            "max_width": null,
            "min_height": null,
            "min_width": null,
            "object_fit": null,
            "object_position": null,
            "order": null,
            "overflow": null,
            "overflow_x": null,
            "overflow_y": null,
            "padding": null,
            "right": null,
            "top": null,
            "visibility": null,
            "width": null
          }
        },
        "e2034c91f5374ad48b2a36b51d40f004": {
          "model_module": "@jupyter-widgets/base",
          "model_name": "LayoutModel",
          "model_module_version": "1.2.0",
          "state": {
            "_model_module": "@jupyter-widgets/base",
            "_model_module_version": "1.2.0",
            "_model_name": "LayoutModel",
            "_view_count": null,
            "_view_module": "@jupyter-widgets/base",
            "_view_module_version": "1.2.0",
            "_view_name": "LayoutView",
            "align_content": null,
            "align_items": null,
            "align_self": null,
            "border": null,
            "bottom": null,
            "display": null,
            "flex": null,
            "flex_flow": null,
            "grid_area": null,
            "grid_auto_columns": null,
            "grid_auto_flow": null,
            "grid_auto_rows": null,
            "grid_column": null,
            "grid_gap": null,
            "grid_row": null,
            "grid_template_areas": null,
            "grid_template_columns": null,
            "grid_template_rows": null,
            "height": null,
            "justify_content": null,
            "justify_items": null,
            "left": null,
            "margin": null,
            "max_height": null,
            "max_width": null,
            "min_height": null,
            "min_width": null,
            "object_fit": null,
            "object_position": null,
            "order": null,
            "overflow": null,
            "overflow_x": null,
            "overflow_y": null,
            "padding": null,
            "right": null,
            "top": null,
            "visibility": null,
            "width": null
          }
        },
        "bcd6e76112a9483fa71e1aff5c3d95e7": {
          "model_module": "@jupyter-widgets/controls",
          "model_name": "DescriptionStyleModel",
          "model_module_version": "1.5.0",
          "state": {
            "_model_module": "@jupyter-widgets/controls",
            "_model_module_version": "1.5.0",
            "_model_name": "DescriptionStyleModel",
            "_view_count": null,
            "_view_module": "@jupyter-widgets/base",
            "_view_module_version": "1.2.0",
            "_view_name": "StyleView",
            "description_width": ""
          }
        },
        "36ddf9923114450cb5aaf2034e7cd6b2": {
          "model_module": "@jupyter-widgets/base",
          "model_name": "LayoutModel",
          "model_module_version": "1.2.0",
          "state": {
            "_model_module": "@jupyter-widgets/base",
            "_model_module_version": "1.2.0",
            "_model_name": "LayoutModel",
            "_view_count": null,
            "_view_module": "@jupyter-widgets/base",
            "_view_module_version": "1.2.0",
            "_view_name": "LayoutView",
            "align_content": null,
            "align_items": null,
            "align_self": null,
            "border": null,
            "bottom": null,
            "display": null,
            "flex": null,
            "flex_flow": null,
            "grid_area": null,
            "grid_auto_columns": null,
            "grid_auto_flow": null,
            "grid_auto_rows": null,
            "grid_column": null,
            "grid_gap": null,
            "grid_row": null,
            "grid_template_areas": null,
            "grid_template_columns": null,
            "grid_template_rows": null,
            "height": null,
            "justify_content": null,
            "justify_items": null,
            "left": null,
            "margin": null,
            "max_height": null,
            "max_width": null,
            "min_height": null,
            "min_width": null,
            "object_fit": null,
            "object_position": null,
            "order": null,
            "overflow": null,
            "overflow_x": null,
            "overflow_y": null,
            "padding": null,
            "right": null,
            "top": null,
            "visibility": null,
            "width": null
          }
        },
        "10dec033409f4be78157a88330b603e0": {
          "model_module": "@jupyter-widgets/controls",
          "model_name": "ProgressStyleModel",
          "model_module_version": "1.5.0",
          "state": {
            "_model_module": "@jupyter-widgets/controls",
            "_model_module_version": "1.5.0",
            "_model_name": "ProgressStyleModel",
            "_view_count": null,
            "_view_module": "@jupyter-widgets/base",
            "_view_module_version": "1.2.0",
            "_view_name": "StyleView",
            "bar_color": null,
            "description_width": ""
          }
        },
        "01c854c21a1e4598a4d6919c1b4e8d3e": {
          "model_module": "@jupyter-widgets/base",
          "model_name": "LayoutModel",
          "model_module_version": "1.2.0",
          "state": {
            "_model_module": "@jupyter-widgets/base",
            "_model_module_version": "1.2.0",
            "_model_name": "LayoutModel",
            "_view_count": null,
            "_view_module": "@jupyter-widgets/base",
            "_view_module_version": "1.2.0",
            "_view_name": "LayoutView",
            "align_content": null,
            "align_items": null,
            "align_self": null,
            "border": null,
            "bottom": null,
            "display": null,
            "flex": null,
            "flex_flow": null,
            "grid_area": null,
            "grid_auto_columns": null,
            "grid_auto_flow": null,
            "grid_auto_rows": null,
            "grid_column": null,
            "grid_gap": null,
            "grid_row": null,
            "grid_template_areas": null,
            "grid_template_columns": null,
            "grid_template_rows": null,
            "height": null,
            "justify_content": null,
            "justify_items": null,
            "left": null,
            "margin": null,
            "max_height": null,
            "max_width": null,
            "min_height": null,
            "min_width": null,
            "object_fit": null,
            "object_position": null,
            "order": null,
            "overflow": null,
            "overflow_x": null,
            "overflow_y": null,
            "padding": null,
            "right": null,
            "top": null,
            "visibility": null,
            "width": null
          }
        },
        "d79168d6c4724f108dfbf9aafc2ab8d9": {
          "model_module": "@jupyter-widgets/controls",
          "model_name": "DescriptionStyleModel",
          "model_module_version": "1.5.0",
          "state": {
            "_model_module": "@jupyter-widgets/controls",
            "_model_module_version": "1.5.0",
            "_model_name": "DescriptionStyleModel",
            "_view_count": null,
            "_view_module": "@jupyter-widgets/base",
            "_view_module_version": "1.2.0",
            "_view_name": "StyleView",
            "description_width": ""
          }
        },
        "6aa0f5116078448bb0daa4139e135cae": {
          "model_module": "@jupyter-widgets/controls",
          "model_name": "HBoxModel",
          "model_module_version": "1.5.0",
          "state": {
            "_dom_classes": [],
            "_model_module": "@jupyter-widgets/controls",
            "_model_module_version": "1.5.0",
            "_model_name": "HBoxModel",
            "_view_count": null,
            "_view_module": "@jupyter-widgets/controls",
            "_view_module_version": "1.5.0",
            "_view_name": "HBoxView",
            "box_style": "",
            "children": [
              "IPY_MODEL_b49d8e4aa1cd42f2a561c707ccb116b1",
              "IPY_MODEL_59f78b38115b4e069aff932b7bfb2a50",
              "IPY_MODEL_053efe1687ec48c98e4bdacdb75dc9f3"
            ],
            "layout": "IPY_MODEL_5581c9079c4e4eeaab3b6e0af08e6507"
          }
        },
        "b49d8e4aa1cd42f2a561c707ccb116b1": {
          "model_module": "@jupyter-widgets/controls",
          "model_name": "HTMLModel",
          "model_module_version": "1.5.0",
          "state": {
            "_dom_classes": [],
            "_model_module": "@jupyter-widgets/controls",
            "_model_module_version": "1.5.0",
            "_model_name": "HTMLModel",
            "_view_count": null,
            "_view_module": "@jupyter-widgets/controls",
            "_view_module_version": "1.5.0",
            "_view_name": "HTMLView",
            "description": "",
            "description_tooltip": null,
            "layout": "IPY_MODEL_f651a7f4d34a4c12b376c3de5c390b96",
            "placeholder": "​",
            "style": "IPY_MODEL_33b4edbfb25241f788e8c4986040a935",
            "value": "README.md: 100%"
          }
        },
        "59f78b38115b4e069aff932b7bfb2a50": {
          "model_module": "@jupyter-widgets/controls",
          "model_name": "FloatProgressModel",
          "model_module_version": "1.5.0",
          "state": {
            "_dom_classes": [],
            "_model_module": "@jupyter-widgets/controls",
            "_model_module_version": "1.5.0",
            "_model_name": "FloatProgressModel",
            "_view_count": null,
            "_view_module": "@jupyter-widgets/controls",
            "_view_module_version": "1.5.0",
            "_view_name": "ProgressView",
            "bar_style": "success",
            "description": "",
            "description_tooltip": null,
            "layout": "IPY_MODEL_7cc68297fdc541c7924126c316a61b28",
            "max": 607,
            "min": 0,
            "orientation": "horizontal",
            "style": "IPY_MODEL_dc08061c76e74566ac5a2cb06c65984e",
            "value": 607
          }
        },
        "053efe1687ec48c98e4bdacdb75dc9f3": {
          "model_module": "@jupyter-widgets/controls",
          "model_name": "HTMLModel",
          "model_module_version": "1.5.0",
          "state": {
            "_dom_classes": [],
            "_model_module": "@jupyter-widgets/controls",
            "_model_module_version": "1.5.0",
            "_model_name": "HTMLModel",
            "_view_count": null,
            "_view_module": "@jupyter-widgets/controls",
            "_view_module_version": "1.5.0",
            "_view_name": "HTMLView",
            "description": "",
            "description_tooltip": null,
            "layout": "IPY_MODEL_2e5ee53854e84cddbbb0bf6964317c3d",
            "placeholder": "​",
            "style": "IPY_MODEL_f6b1ede13fc249c393bff35776954ab4",
            "value": " 607/607 [00:00&lt;00:00, 32.9kB/s]"
          }
        },
        "5581c9079c4e4eeaab3b6e0af08e6507": {
          "model_module": "@jupyter-widgets/base",
          "model_name": "LayoutModel",
          "model_module_version": "1.2.0",
          "state": {
            "_model_module": "@jupyter-widgets/base",
            "_model_module_version": "1.2.0",
            "_model_name": "LayoutModel",
            "_view_count": null,
            "_view_module": "@jupyter-widgets/base",
            "_view_module_version": "1.2.0",
            "_view_name": "LayoutView",
            "align_content": null,
            "align_items": null,
            "align_self": null,
            "border": null,
            "bottom": null,
            "display": null,
            "flex": null,
            "flex_flow": null,
            "grid_area": null,
            "grid_auto_columns": null,
            "grid_auto_flow": null,
            "grid_auto_rows": null,
            "grid_column": null,
            "grid_gap": null,
            "grid_row": null,
            "grid_template_areas": null,
            "grid_template_columns": null,
            "grid_template_rows": null,
            "height": null,
            "justify_content": null,
            "justify_items": null,
            "left": null,
            "margin": null,
            "max_height": null,
            "max_width": null,
            "min_height": null,
            "min_width": null,
            "object_fit": null,
            "object_position": null,
            "order": null,
            "overflow": null,
            "overflow_x": null,
            "overflow_y": null,
            "padding": null,
            "right": null,
            "top": null,
            "visibility": null,
            "width": null
          }
        },
        "f651a7f4d34a4c12b376c3de5c390b96": {
          "model_module": "@jupyter-widgets/base",
          "model_name": "LayoutModel",
          "model_module_version": "1.2.0",
          "state": {
            "_model_module": "@jupyter-widgets/base",
            "_model_module_version": "1.2.0",
            "_model_name": "LayoutModel",
            "_view_count": null,
            "_view_module": "@jupyter-widgets/base",
            "_view_module_version": "1.2.0",
            "_view_name": "LayoutView",
            "align_content": null,
            "align_items": null,
            "align_self": null,
            "border": null,
            "bottom": null,
            "display": null,
            "flex": null,
            "flex_flow": null,
            "grid_area": null,
            "grid_auto_columns": null,
            "grid_auto_flow": null,
            "grid_auto_rows": null,
            "grid_column": null,
            "grid_gap": null,
            "grid_row": null,
            "grid_template_areas": null,
            "grid_template_columns": null,
            "grid_template_rows": null,
            "height": null,
            "justify_content": null,
            "justify_items": null,
            "left": null,
            "margin": null,
            "max_height": null,
            "max_width": null,
            "min_height": null,
            "min_width": null,
            "object_fit": null,
            "object_position": null,
            "order": null,
            "overflow": null,
            "overflow_x": null,
            "overflow_y": null,
            "padding": null,
            "right": null,
            "top": null,
            "visibility": null,
            "width": null
          }
        },
        "33b4edbfb25241f788e8c4986040a935": {
          "model_module": "@jupyter-widgets/controls",
          "model_name": "DescriptionStyleModel",
          "model_module_version": "1.5.0",
          "state": {
            "_model_module": "@jupyter-widgets/controls",
            "_model_module_version": "1.5.0",
            "_model_name": "DescriptionStyleModel",
            "_view_count": null,
            "_view_module": "@jupyter-widgets/base",
            "_view_module_version": "1.2.0",
            "_view_name": "StyleView",
            "description_width": ""
          }
        },
        "7cc68297fdc541c7924126c316a61b28": {
          "model_module": "@jupyter-widgets/base",
          "model_name": "LayoutModel",
          "model_module_version": "1.2.0",
          "state": {
            "_model_module": "@jupyter-widgets/base",
            "_model_module_version": "1.2.0",
            "_model_name": "LayoutModel",
            "_view_count": null,
            "_view_module": "@jupyter-widgets/base",
            "_view_module_version": "1.2.0",
            "_view_name": "LayoutView",
            "align_content": null,
            "align_items": null,
            "align_self": null,
            "border": null,
            "bottom": null,
            "display": null,
            "flex": null,
            "flex_flow": null,
            "grid_area": null,
            "grid_auto_columns": null,
            "grid_auto_flow": null,
            "grid_auto_rows": null,
            "grid_column": null,
            "grid_gap": null,
            "grid_row": null,
            "grid_template_areas": null,
            "grid_template_columns": null,
            "grid_template_rows": null,
            "height": null,
            "justify_content": null,
            "justify_items": null,
            "left": null,
            "margin": null,
            "max_height": null,
            "max_width": null,
            "min_height": null,
            "min_width": null,
            "object_fit": null,
            "object_position": null,
            "order": null,
            "overflow": null,
            "overflow_x": null,
            "overflow_y": null,
            "padding": null,
            "right": null,
            "top": null,
            "visibility": null,
            "width": null
          }
        },
        "dc08061c76e74566ac5a2cb06c65984e": {
          "model_module": "@jupyter-widgets/controls",
          "model_name": "ProgressStyleModel",
          "model_module_version": "1.5.0",
          "state": {
            "_model_module": "@jupyter-widgets/controls",
            "_model_module_version": "1.5.0",
            "_model_name": "ProgressStyleModel",
            "_view_count": null,
            "_view_module": "@jupyter-widgets/base",
            "_view_module_version": "1.2.0",
            "_view_name": "StyleView",
            "bar_color": null,
            "description_width": ""
          }
        },
        "2e5ee53854e84cddbbb0bf6964317c3d": {
          "model_module": "@jupyter-widgets/base",
          "model_name": "LayoutModel",
          "model_module_version": "1.2.0",
          "state": {
            "_model_module": "@jupyter-widgets/base",
            "_model_module_version": "1.2.0",
            "_model_name": "LayoutModel",
            "_view_count": null,
            "_view_module": "@jupyter-widgets/base",
            "_view_module_version": "1.2.0",
            "_view_name": "LayoutView",
            "align_content": null,
            "align_items": null,
            "align_self": null,
            "border": null,
            "bottom": null,
            "display": null,
            "flex": null,
            "flex_flow": null,
            "grid_area": null,
            "grid_auto_columns": null,
            "grid_auto_flow": null,
            "grid_auto_rows": null,
            "grid_column": null,
            "grid_gap": null,
            "grid_row": null,
            "grid_template_areas": null,
            "grid_template_columns": null,
            "grid_template_rows": null,
            "height": null,
            "justify_content": null,
            "justify_items": null,
            "left": null,
            "margin": null,
            "max_height": null,
            "max_width": null,
            "min_height": null,
            "min_width": null,
            "object_fit": null,
            "object_position": null,
            "order": null,
            "overflow": null,
            "overflow_x": null,
            "overflow_y": null,
            "padding": null,
            "right": null,
            "top": null,
            "visibility": null,
            "width": null
          }
        },
        "f6b1ede13fc249c393bff35776954ab4": {
          "model_module": "@jupyter-widgets/controls",
          "model_name": "DescriptionStyleModel",
          "model_module_version": "1.5.0",
          "state": {
            "_model_module": "@jupyter-widgets/controls",
            "_model_module_version": "1.5.0",
            "_model_name": "DescriptionStyleModel",
            "_view_count": null,
            "_view_module": "@jupyter-widgets/base",
            "_view_module_version": "1.2.0",
            "_view_name": "StyleView",
            "description_width": ""
          }
        },
        "f5abbdaf65214778b80efd616de67052": {
          "model_module": "@jupyter-widgets/controls",
          "model_name": "HBoxModel",
          "model_module_version": "1.5.0",
          "state": {
            "_dom_classes": [],
            "_model_module": "@jupyter-widgets/controls",
            "_model_module_version": "1.5.0",
            "_model_name": "HBoxModel",
            "_view_count": null,
            "_view_module": "@jupyter-widgets/controls",
            "_view_module_version": "1.5.0",
            "_view_name": "HBoxView",
            "box_style": "",
            "children": [
              "IPY_MODEL_527939c0768f454b9bca4bf3807c2f4c",
              "IPY_MODEL_d8362387eaff461f9f9fae7a3a33b7fe",
              "IPY_MODEL_239ddc44ef204a01bcbf52bb203b4c7b"
            ],
            "layout": "IPY_MODEL_ad01921f40a64a77a9eede4cd8a55e4d"
          }
        },
        "527939c0768f454b9bca4bf3807c2f4c": {
          "model_module": "@jupyter-widgets/controls",
          "model_name": "HTMLModel",
          "model_module_version": "1.5.0",
          "state": {
            "_dom_classes": [],
            "_model_module": "@jupyter-widgets/controls",
            "_model_module_version": "1.5.0",
            "_model_name": "HTMLModel",
            "_view_count": null,
            "_view_module": "@jupyter-widgets/controls",
            "_view_module_version": "1.5.0",
            "_view_name": "HTMLView",
            "description": "",
            "description_tooltip": null,
            "layout": "IPY_MODEL_4651f89a08e1455699ca3c07819c45ab",
            "placeholder": "​",
            "style": "IPY_MODEL_331f9faf36cf4d4c84107bb4f8532529",
            "value": "adapter_model.safetensors: 100%"
          }
        },
        "d8362387eaff461f9f9fae7a3a33b7fe": {
          "model_module": "@jupyter-widgets/controls",
          "model_name": "FloatProgressModel",
          "model_module_version": "1.5.0",
          "state": {
            "_dom_classes": [],
            "_model_module": "@jupyter-widgets/controls",
            "_model_module_version": "1.5.0",
            "_model_name": "FloatProgressModel",
            "_view_count": null,
            "_view_module": "@jupyter-widgets/controls",
            "_view_module_version": "1.5.0",
            "_view_name": "ProgressView",
            "bar_style": "success",
            "description": "",
            "description_tooltip": null,
            "layout": "IPY_MODEL_318326707e1e4f73aa73dc186fb5e87c",
            "max": 167832240,
            "min": 0,
            "orientation": "horizontal",
            "style": "IPY_MODEL_59311db29b42474e931c7c79cbf69fc5",
            "value": 167832240
          }
        },
        "239ddc44ef204a01bcbf52bb203b4c7b": {
          "model_module": "@jupyter-widgets/controls",
          "model_name": "HTMLModel",
          "model_module_version": "1.5.0",
          "state": {
            "_dom_classes": [],
            "_model_module": "@jupyter-widgets/controls",
            "_model_module_version": "1.5.0",
            "_model_name": "HTMLModel",
            "_view_count": null,
            "_view_module": "@jupyter-widgets/controls",
            "_view_module_version": "1.5.0",
            "_view_name": "HTMLView",
            "description": "",
            "description_tooltip": null,
            "layout": "IPY_MODEL_d82990e266a1478eb91eaf7290cd6f84",
            "placeholder": "​",
            "style": "IPY_MODEL_59a9dac20d8f44a397f6730dc2c92d63",
            "value": " 168M/168M [00:13&lt;00:00, 6.27MB/s]"
          }
        },
        "ad01921f40a64a77a9eede4cd8a55e4d": {
          "model_module": "@jupyter-widgets/base",
          "model_name": "LayoutModel",
          "model_module_version": "1.2.0",
          "state": {
            "_model_module": "@jupyter-widgets/base",
            "_model_module_version": "1.2.0",
            "_model_name": "LayoutModel",
            "_view_count": null,
            "_view_module": "@jupyter-widgets/base",
            "_view_module_version": "1.2.0",
            "_view_name": "LayoutView",
            "align_content": null,
            "align_items": null,
            "align_self": null,
            "border": null,
            "bottom": null,
            "display": null,
            "flex": null,
            "flex_flow": null,
            "grid_area": null,
            "grid_auto_columns": null,
            "grid_auto_flow": null,
            "grid_auto_rows": null,
            "grid_column": null,
            "grid_gap": null,
            "grid_row": null,
            "grid_template_areas": null,
            "grid_template_columns": null,
            "grid_template_rows": null,
            "height": null,
            "justify_content": null,
            "justify_items": null,
            "left": null,
            "margin": null,
            "max_height": null,
            "max_width": null,
            "min_height": null,
            "min_width": null,
            "object_fit": null,
            "object_position": null,
            "order": null,
            "overflow": null,
            "overflow_x": null,
            "overflow_y": null,
            "padding": null,
            "right": null,
            "top": null,
            "visibility": null,
            "width": null
          }
        },
        "4651f89a08e1455699ca3c07819c45ab": {
          "model_module": "@jupyter-widgets/base",
          "model_name": "LayoutModel",
          "model_module_version": "1.2.0",
          "state": {
            "_model_module": "@jupyter-widgets/base",
            "_model_module_version": "1.2.0",
            "_model_name": "LayoutModel",
            "_view_count": null,
            "_view_module": "@jupyter-widgets/base",
            "_view_module_version": "1.2.0",
            "_view_name": "LayoutView",
            "align_content": null,
            "align_items": null,
            "align_self": null,
            "border": null,
            "bottom": null,
            "display": null,
            "flex": null,
            "flex_flow": null,
            "grid_area": null,
            "grid_auto_columns": null,
            "grid_auto_flow": null,
            "grid_auto_rows": null,
            "grid_column": null,
            "grid_gap": null,
            "grid_row": null,
            "grid_template_areas": null,
            "grid_template_columns": null,
            "grid_template_rows": null,
            "height": null,
            "justify_content": null,
            "justify_items": null,
            "left": null,
            "margin": null,
            "max_height": null,
            "max_width": null,
            "min_height": null,
            "min_width": null,
            "object_fit": null,
            "object_position": null,
            "order": null,
            "overflow": null,
            "overflow_x": null,
            "overflow_y": null,
            "padding": null,
            "right": null,
            "top": null,
            "visibility": null,
            "width": null
          }
        },
        "331f9faf36cf4d4c84107bb4f8532529": {
          "model_module": "@jupyter-widgets/controls",
          "model_name": "DescriptionStyleModel",
          "model_module_version": "1.5.0",
          "state": {
            "_model_module": "@jupyter-widgets/controls",
            "_model_module_version": "1.5.0",
            "_model_name": "DescriptionStyleModel",
            "_view_count": null,
            "_view_module": "@jupyter-widgets/base",
            "_view_module_version": "1.2.0",
            "_view_name": "StyleView",
            "description_width": ""
          }
        },
        "318326707e1e4f73aa73dc186fb5e87c": {
          "model_module": "@jupyter-widgets/base",
          "model_name": "LayoutModel",
          "model_module_version": "1.2.0",
          "state": {
            "_model_module": "@jupyter-widgets/base",
            "_model_module_version": "1.2.0",
            "_model_name": "LayoutModel",
            "_view_count": null,
            "_view_module": "@jupyter-widgets/base",
            "_view_module_version": "1.2.0",
            "_view_name": "LayoutView",
            "align_content": null,
            "align_items": null,
            "align_self": null,
            "border": null,
            "bottom": null,
            "display": null,
            "flex": null,
            "flex_flow": null,
            "grid_area": null,
            "grid_auto_columns": null,
            "grid_auto_flow": null,
            "grid_auto_rows": null,
            "grid_column": null,
            "grid_gap": null,
            "grid_row": null,
            "grid_template_areas": null,
            "grid_template_columns": null,
            "grid_template_rows": null,
            "height": null,
            "justify_content": null,
            "justify_items": null,
            "left": null,
            "margin": null,
            "max_height": null,
            "max_width": null,
            "min_height": null,
            "min_width": null,
            "object_fit": null,
            "object_position": null,
            "order": null,
            "overflow": null,
            "overflow_x": null,
            "overflow_y": null,
            "padding": null,
            "right": null,
            "top": null,
            "visibility": null,
            "width": null
          }
        },
        "59311db29b42474e931c7c79cbf69fc5": {
          "model_module": "@jupyter-widgets/controls",
          "model_name": "ProgressStyleModel",
          "model_module_version": "1.5.0",
          "state": {
            "_model_module": "@jupyter-widgets/controls",
            "_model_module_version": "1.5.0",
            "_model_name": "ProgressStyleModel",
            "_view_count": null,
            "_view_module": "@jupyter-widgets/base",
            "_view_module_version": "1.2.0",
            "_view_name": "StyleView",
            "bar_color": null,
            "description_width": ""
          }
        },
        "d82990e266a1478eb91eaf7290cd6f84": {
          "model_module": "@jupyter-widgets/base",
          "model_name": "LayoutModel",
          "model_module_version": "1.2.0",
          "state": {
            "_model_module": "@jupyter-widgets/base",
            "_model_module_version": "1.2.0",
            "_model_name": "LayoutModel",
            "_view_count": null,
            "_view_module": "@jupyter-widgets/base",
            "_view_module_version": "1.2.0",
            "_view_name": "LayoutView",
            "align_content": null,
            "align_items": null,
            "align_self": null,
            "border": null,
            "bottom": null,
            "display": null,
            "flex": null,
            "flex_flow": null,
            "grid_area": null,
            "grid_auto_columns": null,
            "grid_auto_flow": null,
            "grid_auto_rows": null,
            "grid_column": null,
            "grid_gap": null,
            "grid_row": null,
            "grid_template_areas": null,
            "grid_template_columns": null,
            "grid_template_rows": null,
            "height": null,
            "justify_content": null,
            "justify_items": null,
            "left": null,
            "margin": null,
            "max_height": null,
            "max_width": null,
            "min_height": null,
            "min_width": null,
            "object_fit": null,
            "object_position": null,
            "order": null,
            "overflow": null,
            "overflow_x": null,
            "overflow_y": null,
            "padding": null,
            "right": null,
            "top": null,
            "visibility": null,
            "width": null
          }
        },
        "59a9dac20d8f44a397f6730dc2c92d63": {
          "model_module": "@jupyter-widgets/controls",
          "model_name": "DescriptionStyleModel",
          "model_module_version": "1.5.0",
          "state": {
            "_model_module": "@jupyter-widgets/controls",
            "_model_module_version": "1.5.0",
            "_model_name": "DescriptionStyleModel",
            "_view_count": null,
            "_view_module": "@jupyter-widgets/base",
            "_view_module_version": "1.2.0",
            "_view_name": "StyleView",
            "description_width": ""
          }
        },
        "a3ad8992580d4ed0a7c735094c50a24f": {
          "model_module": "@jupyter-widgets/controls",
          "model_name": "HBoxModel",
          "model_module_version": "1.5.0",
          "state": {
            "_dom_classes": [],
            "_model_module": "@jupyter-widgets/controls",
            "_model_module_version": "1.5.0",
            "_model_name": "HBoxModel",
            "_view_count": null,
            "_view_module": "@jupyter-widgets/controls",
            "_view_module_version": "1.5.0",
            "_view_name": "HBoxView",
            "box_style": "",
            "children": [
              "IPY_MODEL_d8112270343d43e3b653043c341b84c2",
              "IPY_MODEL_454585b2e76b48fb830e83666a2fc431",
              "IPY_MODEL_a2cd1ecb2b8549f8a1d0b70bdba16dd8"
            ],
            "layout": "IPY_MODEL_8f3c901d7b454a8194f3169af486a605"
          }
        },
        "d8112270343d43e3b653043c341b84c2": {
          "model_module": "@jupyter-widgets/controls",
          "model_name": "HTMLModel",
          "model_module_version": "1.5.0",
          "state": {
            "_dom_classes": [],
            "_model_module": "@jupyter-widgets/controls",
            "_model_module_version": "1.5.0",
            "_model_name": "HTMLModel",
            "_view_count": null,
            "_view_module": "@jupyter-widgets/controls",
            "_view_module_version": "1.5.0",
            "_view_name": "HTMLView",
            "description": "",
            "description_tooltip": null,
            "layout": "IPY_MODEL_fc423db0083a48cebdc16fb3d2abbcd9",
            "placeholder": "​",
            "style": "IPY_MODEL_4a68b076e1c74ed3aca347f55561c327",
            "value": "tokenizer.model: 100%"
          }
        },
        "454585b2e76b48fb830e83666a2fc431": {
          "model_module": "@jupyter-widgets/controls",
          "model_name": "FloatProgressModel",
          "model_module_version": "1.5.0",
          "state": {
            "_dom_classes": [],
            "_model_module": "@jupyter-widgets/controls",
            "_model_module_version": "1.5.0",
            "_model_name": "FloatProgressModel",
            "_view_count": null,
            "_view_module": "@jupyter-widgets/controls",
            "_view_module_version": "1.5.0",
            "_view_name": "ProgressView",
            "bar_style": "success",
            "description": "",
            "description_tooltip": null,
            "layout": "IPY_MODEL_6e27a14047824809adf02062970cf741",
            "max": 493443,
            "min": 0,
            "orientation": "horizontal",
            "style": "IPY_MODEL_07a7016c1bd1481a99d29328185ce444",
            "value": 493443
          }
        },
        "a2cd1ecb2b8549f8a1d0b70bdba16dd8": {
          "model_module": "@jupyter-widgets/controls",
          "model_name": "HTMLModel",
          "model_module_version": "1.5.0",
          "state": {
            "_dom_classes": [],
            "_model_module": "@jupyter-widgets/controls",
            "_model_module_version": "1.5.0",
            "_model_name": "HTMLModel",
            "_view_count": null,
            "_view_module": "@jupyter-widgets/controls",
            "_view_module_version": "1.5.0",
            "_view_name": "HTMLView",
            "description": "",
            "description_tooltip": null,
            "layout": "IPY_MODEL_72f9aec7c6a3455aa96a77fb6dd86672",
            "placeholder": "​",
            "style": "IPY_MODEL_d96ee4fc6e374a50902279a40c8847d2",
            "value": " 493k/493k [00:00&lt;00:00, 1.44MB/s]"
          }
        },
        "8f3c901d7b454a8194f3169af486a605": {
          "model_module": "@jupyter-widgets/base",
          "model_name": "LayoutModel",
          "model_module_version": "1.2.0",
          "state": {
            "_model_module": "@jupyter-widgets/base",
            "_model_module_version": "1.2.0",
            "_model_name": "LayoutModel",
            "_view_count": null,
            "_view_module": "@jupyter-widgets/base",
            "_view_module_version": "1.2.0",
            "_view_name": "LayoutView",
            "align_content": null,
            "align_items": null,
            "align_self": null,
            "border": null,
            "bottom": null,
            "display": null,
            "flex": null,
            "flex_flow": null,
            "grid_area": null,
            "grid_auto_columns": null,
            "grid_auto_flow": null,
            "grid_auto_rows": null,
            "grid_column": null,
            "grid_gap": null,
            "grid_row": null,
            "grid_template_areas": null,
            "grid_template_columns": null,
            "grid_template_rows": null,
            "height": null,
            "justify_content": null,
            "justify_items": null,
            "left": null,
            "margin": null,
            "max_height": null,
            "max_width": null,
            "min_height": null,
            "min_width": null,
            "object_fit": null,
            "object_position": null,
            "order": null,
            "overflow": null,
            "overflow_x": null,
            "overflow_y": null,
            "padding": null,
            "right": null,
            "top": null,
            "visibility": null,
            "width": null
          }
        },
        "fc423db0083a48cebdc16fb3d2abbcd9": {
          "model_module": "@jupyter-widgets/base",
          "model_name": "LayoutModel",
          "model_module_version": "1.2.0",
          "state": {
            "_model_module": "@jupyter-widgets/base",
            "_model_module_version": "1.2.0",
            "_model_name": "LayoutModel",
            "_view_count": null,
            "_view_module": "@jupyter-widgets/base",
            "_view_module_version": "1.2.0",
            "_view_name": "LayoutView",
            "align_content": null,
            "align_items": null,
            "align_self": null,
            "border": null,
            "bottom": null,
            "display": null,
            "flex": null,
            "flex_flow": null,
            "grid_area": null,
            "grid_auto_columns": null,
            "grid_auto_flow": null,
            "grid_auto_rows": null,
            "grid_column": null,
            "grid_gap": null,
            "grid_row": null,
            "grid_template_areas": null,
            "grid_template_columns": null,
            "grid_template_rows": null,
            "height": null,
            "justify_content": null,
            "justify_items": null,
            "left": null,
            "margin": null,
            "max_height": null,
            "max_width": null,
            "min_height": null,
            "min_width": null,
            "object_fit": null,
            "object_position": null,
            "order": null,
            "overflow": null,
            "overflow_x": null,
            "overflow_y": null,
            "padding": null,
            "right": null,
            "top": null,
            "visibility": null,
            "width": null
          }
        },
        "4a68b076e1c74ed3aca347f55561c327": {
          "model_module": "@jupyter-widgets/controls",
          "model_name": "DescriptionStyleModel",
          "model_module_version": "1.5.0",
          "state": {
            "_model_module": "@jupyter-widgets/controls",
            "_model_module_version": "1.5.0",
            "_model_name": "DescriptionStyleModel",
            "_view_count": null,
            "_view_module": "@jupyter-widgets/base",
            "_view_module_version": "1.2.0",
            "_view_name": "StyleView",
            "description_width": ""
          }
        },
        "6e27a14047824809adf02062970cf741": {
          "model_module": "@jupyter-widgets/base",
          "model_name": "LayoutModel",
          "model_module_version": "1.2.0",
          "state": {
            "_model_module": "@jupyter-widgets/base",
            "_model_module_version": "1.2.0",
            "_model_name": "LayoutModel",
            "_view_count": null,
            "_view_module": "@jupyter-widgets/base",
            "_view_module_version": "1.2.0",
            "_view_name": "LayoutView",
            "align_content": null,
            "align_items": null,
            "align_self": null,
            "border": null,
            "bottom": null,
            "display": null,
            "flex": null,
            "flex_flow": null,
            "grid_area": null,
            "grid_auto_columns": null,
            "grid_auto_flow": null,
            "grid_auto_rows": null,
            "grid_column": null,
            "grid_gap": null,
            "grid_row": null,
            "grid_template_areas": null,
            "grid_template_columns": null,
            "grid_template_rows": null,
            "height": null,
            "justify_content": null,
            "justify_items": null,
            "left": null,
            "margin": null,
            "max_height": null,
            "max_width": null,
            "min_height": null,
            "min_width": null,
            "object_fit": null,
            "object_position": null,
            "order": null,
            "overflow": null,
            "overflow_x": null,
            "overflow_y": null,
            "padding": null,
            "right": null,
            "top": null,
            "visibility": null,
            "width": null
          }
        },
        "07a7016c1bd1481a99d29328185ce444": {
          "model_module": "@jupyter-widgets/controls",
          "model_name": "ProgressStyleModel",
          "model_module_version": "1.5.0",
          "state": {
            "_model_module": "@jupyter-widgets/controls",
            "_model_module_version": "1.5.0",
            "_model_name": "ProgressStyleModel",
            "_view_count": null,
            "_view_module": "@jupyter-widgets/base",
            "_view_module_version": "1.2.0",
            "_view_name": "StyleView",
            "bar_color": null,
            "description_width": ""
          }
        },
        "72f9aec7c6a3455aa96a77fb6dd86672": {
          "model_module": "@jupyter-widgets/base",
          "model_name": "LayoutModel",
          "model_module_version": "1.2.0",
          "state": {
            "_model_module": "@jupyter-widgets/base",
            "_model_module_version": "1.2.0",
            "_model_name": "LayoutModel",
            "_view_count": null,
            "_view_module": "@jupyter-widgets/base",
            "_view_module_version": "1.2.0",
            "_view_name": "LayoutView",
            "align_content": null,
            "align_items": null,
            "align_self": null,
            "border": null,
            "bottom": null,
            "display": null,
            "flex": null,
            "flex_flow": null,
            "grid_area": null,
            "grid_auto_columns": null,
            "grid_auto_flow": null,
            "grid_auto_rows": null,
            "grid_column": null,
            "grid_gap": null,
            "grid_row": null,
            "grid_template_areas": null,
            "grid_template_columns": null,
            "grid_template_rows": null,
            "height": null,
            "justify_content": null,
            "justify_items": null,
            "left": null,
            "margin": null,
            "max_height": null,
            "max_width": null,
            "min_height": null,
            "min_width": null,
            "object_fit": null,
            "object_position": null,
            "order": null,
            "overflow": null,
            "overflow_x": null,
            "overflow_y": null,
            "padding": null,
            "right": null,
            "top": null,
            "visibility": null,
            "width": null
          }
        },
        "d96ee4fc6e374a50902279a40c8847d2": {
          "model_module": "@jupyter-widgets/controls",
          "model_name": "DescriptionStyleModel",
          "model_module_version": "1.5.0",
          "state": {
            "_model_module": "@jupyter-widgets/controls",
            "_model_module_version": "1.5.0",
            "_model_name": "DescriptionStyleModel",
            "_view_count": null,
            "_view_module": "@jupyter-widgets/base",
            "_view_module_version": "1.2.0",
            "_view_name": "StyleView",
            "description_width": ""
          }
        }
      }
    }
  },
  "nbformat": 4,
  "nbformat_minor": 0
}